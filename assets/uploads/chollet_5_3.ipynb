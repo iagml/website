{
  "nbformat": 4,
  "nbformat_minor": 0,
  "metadata": {
    "colab": {
      "name": "chollet_5.3.ipynb",
      "provenance": [],
      "collapsed_sections": []
    },
    "kernelspec": {
      "name": "python3",
      "display_name": "Python 3"
    },
    "accelerator": "GPU"
  },
  "cells": [
    {
      "cell_type": "markdown",
      "metadata": {
        "id": "XJipQrl6jLyQ",
        "colab_type": "text"
      },
      "source": [
        "# Deep Learning With Python: 5.3\n",
        "**Introdução a Deep-Learning | Aplicações em Visão Computacional**\n",
        "\n",
        "<br>\n",
        "\n",
        "---\n",
        "\n",
        "### Tópico Abordado:\n",
        "* Using a pretrained convnet\n",
        "\n",
        "---"
      ]
    },
    {
      "cell_type": "markdown",
      "metadata": {
        "id": "LEfVNxLXkklF",
        "colab_type": "text"
      },
      "source": [
        "# Pretrained Network\n",
        "* Uma rede neural salva que foi anteriormente treinada em um grande conjunto de dados.\n",
        "\n",
        "**Requisitos:**\n",
        "* Conjunto Grande\n",
        "* Conjunto Genérico\n",
        "\n",
        "**Características:**\n",
        "* Hierarquia Espacial\n",
        "\n",
        "**Métodos:**\n",
        "* Feature Extraction\n",
        "* Fine Tunning\n",
        "\n",
        "## Feature Extraction\n",
        "* Usar *features* de uma rede já treinada para treinar uma nova.\n",
        "\n",
        "## Fine Tunning\n",
        "* Ferramenta complementar a *Feature Extraction*\n",
        "* Descongelar as últimas camadas da *convbase* "
      ]
    },
    {
      "cell_type": "code",
      "metadata": {
        "id": "cnmhkbSdK3Cb",
        "colab_type": "code",
        "colab": {}
      },
      "source": [
        "import os\n",
        "import numpy as np\n",
        "import random\n",
        "import tensorflow as tf\n",
        "from keras import backend as K\n",
        "\n",
        "import shutil\n",
        "from google.colab import drive\n",
        "import zipfile\n",
        "\n",
        "from keras.applications import VGG16\n",
        "\n",
        "from keras.preprocessing.image import ImageDataGenerator\n",
        "\n",
        "import matplotlib.pyplot as plt\n",
        "\n",
        "from keras import models\n",
        "from keras import layers\n",
        "from keras import optimizers\n",
        "\n",
        "from keras.callbacks import CSVLogger\n",
        "import pandas as pd"
      ],
      "execution_count": 0,
      "outputs": []
    },
    {
      "cell_type": "code",
      "metadata": {
        "id": "8jmpZduzi12u",
        "colab_type": "code",
        "outputId": "b75ff972-d1e2-438b-dd1a-18369ca1cc49",
        "colab": {
          "base_uri": "https://localhost:8080/",
          "height": 34
        }
      },
      "source": [
        "# Reprodutibilidade\n",
        "# https://keras.io/getting-started/faq/#how-can-i-obtain-reproducible-results-using-keras-during-development\n",
        "\n",
        "os.environ['PYTHONHASHSEED'] = '12'\n",
        "np.random.seed(123)\n",
        "random.seed(1234)\n",
        "tf.set_random_seed(12345)\n",
        "\n",
        "# session_conf = tf.ConfigProto(intra_op_parallelism_threads=1, \n",
        "#                               inter_op_parallelism_threads=1)\n",
        "# sess = tf.Session(graph=tf.get_default_graph(), config=session_conf)\n",
        "# K.set_session(sess)\n",
        "\n",
        "print('Sementes Plantadas!')"
      ],
      "execution_count": 0,
      "outputs": [
        {
          "output_type": "stream",
          "text": [
            "Sementes Plantadas!\n"
          ],
          "name": "stdout"
        }
      ]
    },
    {
      "cell_type": "code",
      "metadata": {
        "id": "S3WA1L37Yh8g",
        "colab_type": "code",
        "outputId": "017e026f-34d6-4675-958a-348fc4cf3377",
        "colab": {
          "base_uri": "https://localhost:8080/",
          "height": 34
        }
      },
      "source": [
        "# Montando Google Drive\n",
        "\n",
        "drive.mount('/gdrive')"
      ],
      "execution_count": 0,
      "outputs": [
        {
          "output_type": "stream",
          "text": [
            "Drive already mounted at /gdrive; to attempt to forcibly remount, call drive.mount(\"/gdrive\", force_remount=True).\n"
          ],
          "name": "stdout"
        }
      ]
    },
    {
      "cell_type": "code",
      "metadata": {
        "id": "b4j5bK0OEF7k",
        "colab_type": "code",
        "colab": {}
      },
      "source": [
        "TRAIN_MODELS = False"
      ],
      "execution_count": 0,
      "outputs": []
    },
    {
      "cell_type": "code",
      "metadata": {
        "id": "2lW5aSgrWmPi",
        "colab_type": "code",
        "colab": {}
      },
      "source": [
        "class DataHandler:\n",
        "  def __init__(self, folder):\n",
        "    self.source_file = '/gdrive/My Drive/ml_datasets/dogs_vs_cats.zip'\n",
        "    self.root_dir = '/content/data'\n",
        "    self.base_dir = os.path.join(self.root_dir, folder)\n",
        "    self.train_dir = os.path.join(self.base_dir, 'train')\n",
        "    self.train_cats_dir = os.path.join(self.train_dir, 'cats')\n",
        "    self.train_dogs_dir = os.path.join(self.train_dir, 'dogs')\n",
        "    self.val_dir = os.path.join(self.base_dir, 'validation')\n",
        "    self.val_cats_dir = os.path.join(self.val_dir, 'cats')\n",
        "    self.val_dogs_dir = os.path.join(self.val_dir, 'dogs')\n",
        "    self.test_dir = os.path.join(self.base_dir, 'test')\n",
        "    self.test_cats_dir = os.path.join(self.test_dir, 'cats')\n",
        "    self.test_dogs_dir = os.path.join(self.test_dir, 'dogs')\n",
        "  \n",
        "  def __config_dir_struct(self):\n",
        "    if (not os.path.exists(self.root_dir)):\n",
        "      os.mkdir(self.root_dir)\n",
        "\n",
        "    try:\n",
        "      shutil.rmtree(self.base_dir)\n",
        "      print('Diretório de dados limpo')\n",
        "    except:\n",
        "      pass\n",
        "\n",
        "    os.mkdir(self.base_dir)\n",
        "    os.mkdir(self.train_dir)\n",
        "    os.mkdir(self.train_cats_dir)\n",
        "    os.mkdir(self.train_dogs_dir)\n",
        "    os.mkdir(self.val_dir)\n",
        "    os.mkdir(self.val_cats_dir)\n",
        "    os.mkdir(self.val_dogs_dir)\n",
        "    os.mkdir(self.test_dir)\n",
        "    os.mkdir(self.test_cats_dir)\n",
        "    os.mkdir(self.test_dogs_dir)\n",
        "\n",
        "  def extract(self, train_samples=0, val_samples=0, test_samples=0):\n",
        "    self.__config_dir_struct()\n",
        "    self.train_samples = train_samples\n",
        "    self.val_samples = val_samples\n",
        "    self.test_samples = test_samples\n",
        "\n",
        "    def move_to_parent(root, child):\n",
        "      for f in os.listdir(os.path.join(root, child)):\n",
        "        shutil.move(\n",
        "            os.path.join(root, child, f),\n",
        "            root\n",
        "        )\n",
        "      os.rmdir(os.path.join(root, child))\n",
        "\n",
        "    print('Iniciando descompressões')\n",
        "\n",
        "    if (not os.path.exists(os.path.join(self.root_dir, 'train.zip'))):\n",
        "      with zipfile.ZipFile(self.source_file, 'r') as zip_ref:\n",
        "        zip_ref.extract('train.zip', path=self.root_dir)\n",
        "        print('Conjunto de treinamento OK!')\n",
        "\n",
        "    with zipfile.ZipFile(os.path.join(self.root_dir, 'train.zip'), 'r') as zip_ref:\n",
        "      start = 0\n",
        "      end = train_samples\n",
        "      for i in range(start, end):\n",
        "        zip_ref.extract('train/cat.{}.jpg'.format(i), path=self.train_cats_dir)\n",
        "        zip_ref.extract('train/dog.{}.jpg'.format(i), path=self.train_dogs_dir)\n",
        "      move_to_parent(self.train_cats_dir, 'train')\n",
        "      move_to_parent(self.train_dogs_dir, 'train')\n",
        "      print('Subconjunto de treinamento OK!')\n",
        "      \n",
        "      start = end\n",
        "      end = train_samples + val_samples\n",
        "      for i in range(start, end):\n",
        "        zip_ref.extract('train/cat.{}.jpg'.format(i), path=self.val_cats_dir)\n",
        "        zip_ref.extract('train/dog.{}.jpg'.format(i), path=self.val_dogs_dir)\n",
        "      move_to_parent(self.val_cats_dir, 'train')\n",
        "      move_to_parent(self.val_dogs_dir, 'train')\n",
        "      print('Subconjunto de validação OK!')\n",
        "\n",
        "      start = end\n",
        "      end = train_samples + val_samples + test_samples\n",
        "      for i in range(start, end):\n",
        "        zip_ref.extract('train/cat.{}.jpg'.format(i), path=self.test_cats_dir)\n",
        "        zip_ref.extract('train/dog.{}.jpg'.format(i), path=self.test_dogs_dir)\n",
        "      move_to_parent(self.test_cats_dir, 'train')\n",
        "      move_to_parent(self.test_dogs_dir, 'train')\n",
        "      print('Subconjunto de teste OK!')"
      ],
      "execution_count": 0,
      "outputs": []
    },
    {
      "cell_type": "code",
      "metadata": {
        "id": "YHfCImkGZG22",
        "colab_type": "code",
        "colab": {}
      },
      "source": [
        "class Model:\n",
        "  def __init__(self, name):\n",
        "    self.model = None\n",
        "    self.history = None\n",
        "    self.model_file = '/gdrive/My Drive/ml_fits/cats_dogs_2_{}.h5'.format(name)\n",
        "    self.history_file = '/gdrive/My Drive/ml_fits/cats_dogs_2_{}.csv'.format(name)\n",
        "    self.conv_base = VGG16(\n",
        "        weights='imagenet',\n",
        "        include_top=False,\n",
        "        input_shape=(150, 150, 3)\n",
        "    )\n",
        "    self.conv_base.trainable = False\n",
        "  \n",
        "  def extract_features(self, directory, sample_count):\n",
        "    datagen = ImageDataGenerator(rescale=1./255)\n",
        "    features = np.zeros(shape=(sample_count, 4, 4, 512))\n",
        "    labels = np.zeros(shape=(sample_count))\n",
        "    generator = datagen.flow_from_directory(\n",
        "        directory,\n",
        "        target_size=(150, 150),\n",
        "        batch_size=20,\n",
        "        class_mode='binary',\n",
        "        shuffle=True,\n",
        "        seed=1234\n",
        "    )\n",
        "    batch_size = 20\n",
        "    i = 0\n",
        "    for inputs_batch, labels_batch in generator:\n",
        "      features_batch = self.conv_base.predict(inputs_batch)\n",
        "      features[i * batch_size : (i + 1) * batch_size] = features_batch\n",
        "      labels[i * batch_size : (i + 1) * batch_size] = labels_batch\n",
        "      i += 1\n",
        "      if i * batch_size >= sample_count:\n",
        "        break\n",
        "    return features, labels\n",
        "\n",
        "  def preprocess(self, data_handler):\n",
        "    self.train_features, self.train_labels = self.extract_features(\n",
        "        data_handler.train_dir, \n",
        "        data_handler.train_samples\n",
        "    )\n",
        "    self.val_features, self.val_labels = self.extract_features(\n",
        "        data_handler.val_dir,\n",
        "        data_handler.val_samples\n",
        "    )\n",
        "    self.test_features, self.test_labels = self.extract_features(\n",
        "        data_handler.test_dir,\n",
        "        data_handler.test_samples\n",
        "    )\n",
        "\n",
        "    self.train_features = np.reshape(\n",
        "        self.train_features, \n",
        "        (data_handler.train_samples, 4 * 4 * 512)\n",
        "    )\n",
        "    self.val_features = np.reshape(\n",
        "        self.val_features,\n",
        "        (data_handler.val_samples, 4 * 4 * 512)\n",
        "    )\n",
        "    self.test_features = np.reshape(\n",
        "        self.test_features,\n",
        "        (data_handler.test_samples, 4 * 4 * 512)\n",
        "    )\n",
        "\n",
        "  def compile_model(self):\n",
        "    model = models.Sequential()\n",
        "    model.add(layers.Dense(256, activation='relu', input_dim=4 * 4 * 512))\n",
        "    model.add(layers.Dropout(0.5))\n",
        "    model.add(layers.Dense(1, activation='sigmoid'))\n",
        "    model.compile(optimizer=optimizers.RMSprop(lr=2e-5),\n",
        "                  loss='binary_crossentropy',\n",
        "                  metrics=['acc']\n",
        "    )\n",
        "    \n",
        "    self.model = model\n",
        "\n",
        "  def fit(self):\n",
        "    csv_logger = CSVLogger(self.history_file, separator=',', append=False)\n",
        "    \n",
        "    self.model.fit(\n",
        "        self.train_features,\n",
        "        self.train_labels,\n",
        "        epochs=30,\n",
        "        batch_size=20,\n",
        "        validation_data=(self.val_features, self.val_labels),\n",
        "        callbacks=[csv_logger]\n",
        "    )\n",
        "    \n",
        "    self.model.save(self.model_file)\n",
        "    self.history = pd.read_csv(self.history_file, sep=',', engine='python')\n",
        "    \n",
        "\n",
        "  def load_model(self):\n",
        "    self.model = models.load_model(self.model_file)\n",
        "    self.history = pd.read_csv(self.history_file, sep=',', engine='python')"
      ],
      "execution_count": 0,
      "outputs": []
    },
    {
      "cell_type": "code",
      "metadata": {
        "id": "_32uW7kkdKep",
        "colab_type": "code",
        "outputId": "f7f16e11-9b12-4b65-d38b-5af8b15727b9",
        "colab": {
          "base_uri": "https://localhost:8080/",
          "height": 156
        }
      },
      "source": [
        "dh = DataHandler('subset')\n",
        "dh.extract(1000, 500, 500)\n",
        "\n",
        "m = Model('subset')\n",
        "m.preprocess(dh)\n",
        "if (TRAIN_MODELS):\n",
        "  m.compile_model()\n",
        "  m.fit()\n",
        "else:\n",
        "  m.load_model()"
      ],
      "execution_count": 0,
      "outputs": [
        {
          "output_type": "stream",
          "text": [
            "Diretório de dados limpo\n",
            "Iniciando descompressões\n",
            "Subconjunto de treinamento OK!\n",
            "Subconjunto de validação OK!\n",
            "Subconjunto de teste OK!\n",
            "Found 2000 images belonging to 2 classes.\n",
            "Found 1000 images belonging to 2 classes.\n",
            "Found 1000 images belonging to 2 classes.\n"
          ],
          "name": "stdout"
        }
      ]
    },
    {
      "cell_type": "code",
      "metadata": {
        "id": "QfSCx9bKcrHH",
        "colab_type": "code",
        "outputId": "e9e7f0ae-0ce8-40ba-bc56-5899458a70d0",
        "colab": {
          "base_uri": "https://localhost:8080/",
          "height": 545
        }
      },
      "source": [
        "acc = m.history['acc']\n",
        "val_acc = m.history['val_acc']\n",
        "loss = m.history['loss']\n",
        "val_loss = m.history['val_loss']\n",
        "epochs = range(1, len(acc) + 1)\n",
        "plt.plot(epochs, acc, 'bo', label='Training acc')\n",
        "plt.plot(epochs, val_acc, 'b', label='Validation acc')\n",
        "plt.title('Training and validation accuracy')\n",
        "plt.legend()\n",
        "plt.grid()\n",
        "plt.figure()\n",
        "plt.plot(epochs, loss, 'bo', label='Training loss')\n",
        "plt.plot(epochs, val_loss, 'b', label='Validation loss')\n",
        "plt.title('Training and validation loss')\n",
        "plt.legend()\n",
        "plt.grid()\n",
        "plt.show()"
      ],
      "execution_count": 0,
      "outputs": [
        {
          "output_type": "display_data",
          "data": {
            "image/png": "[encoded data removed]",
            "text/plain": [
              "<Figure size 432x288 with 1 Axes>"
            ]
          },
          "metadata": {
            "tags": []
          }
        },
        {
          "output_type": "display_data",
          "data": {
            "image/png": "[encoded data removed]",
            "text/plain": [
              "<Figure size 432x288 with 1 Axes>"
            ]
          },
          "metadata": {
            "tags": []
          }
        }
      ]
    },
    {
      "cell_type": "code",
      "metadata": {
        "id": "L6bG2PBFLWyd",
        "colab_type": "code",
        "colab": {}
      },
      "source": [
        "class DataAugModel:\n",
        "  def __init__(self, name):\n",
        "    self.model = None\n",
        "    self.history = None\n",
        "    self.model_file = '/gdrive/My Drive/ml_fits/cats_dogs_2_{}.h5'.format(name)\n",
        "    self.history_file = '/gdrive/My Drive/ml_fits/cats_dogs_2_{}.csv'.format(name)\n",
        "    self.train_datagen = None\n",
        "    self.val_datagen = None\n",
        "    self.conv_base = VGG16(\n",
        "        weights='imagenet',\n",
        "        include_top=False,\n",
        "        input_shape=(150, 150, 3)\n",
        "    )\n",
        "    self.conv_base.trainable = False\n",
        "  \n",
        "  def extract_features(self, directory, sample_count):\n",
        "    datagen = ImageDataGenerator(rescale=1./255)\n",
        "    features = np.zeros(shape=(sample_count, 4, 4, 512))\n",
        "    labels = np.zeros(shape=(sample_count))\n",
        "    generator = datagen.flow_from_directory(\n",
        "        directory,\n",
        "        target_size=(150, 150),\n",
        "        batch_size=20,\n",
        "        class_mode='binary',\n",
        "        shuffle=True,\n",
        "        seed=1234\n",
        "    )\n",
        "    batch_size = 20\n",
        "    i = 0\n",
        "    for inputs_batch, labels_batch in generator:\n",
        "      features_batch = self.conv_base.predict(inputs_batch)\n",
        "      features[i * batch_size : (i + 1) * batch_size] = features_batch\n",
        "      labels[i * batch_size : (i + 1) * batch_size] = labels_batch\n",
        "      i += 1\n",
        "      if i * batch_size >= sample_count:\n",
        "        break\n",
        "    return features, labels\n",
        "\n",
        "  def preprocess(self, data_handler):\n",
        "    self.train_features, self.train_labels = self.extract_features(\n",
        "        data_handler.train_dir, \n",
        "        data_handler.train_samples\n",
        "    )\n",
        "    self.val_features, self.val_labels = self.extract_features(\n",
        "        data_handler.val_dir,\n",
        "        data_handler.val_samples\n",
        "    )\n",
        "    self.test_features, self.test_labels = self.extract_features(\n",
        "        data_handler.test_dir,\n",
        "        data_handler.test_samples\n",
        "    )\n",
        "\n",
        "    self.train_features = np.reshape(\n",
        "        self.train_features, \n",
        "        (data_handler.train_samples, 4 * 4 * 512)\n",
        "    )\n",
        "    self.val_features = np.reshape(\n",
        "        self.val_features,\n",
        "        (data_handler.val_samples, 4 * 4 * 512)\n",
        "    )\n",
        "    self.test_features = np.reshape(\n",
        "        self.test_features,\n",
        "        (data_handler.test_samples, 4 * 4 * 512)\n",
        "    )\n",
        "    \n",
        "    train_datagen = ImageDataGenerator(\n",
        "        rescale=1./255,\n",
        "        rotation_range=40,\n",
        "        width_shift_range=0.2,\n",
        "        height_shift_range=0.2,\n",
        "        shear_range=0.2,\n",
        "        zoom_range=0.2,\n",
        "        horizontal_flip=True,\n",
        "        fill_mode='nearest'\n",
        "    )\n",
        "    \n",
        "    test_datagen = ImageDataGenerator(rescale=1./255)\n",
        "    \n",
        "    self.train_generator = train_datagen.flow_from_directory(\n",
        "        data_handler.train_dir,\n",
        "        target_size=(150, 150),\n",
        "        batch_size=20,\n",
        "        class_mode='binary'\n",
        "    )\n",
        "    \n",
        "    self.val_generator = test_datagen.flow_from_directory(\n",
        "        data_handler.val_dir,\n",
        "        target_size=(150, 150),\n",
        "        batch_size=20,\n",
        "        class_mode='binary'\n",
        "    )\n",
        "\n",
        "  def compile_model(self):\n",
        "    model = models.Sequential()\n",
        "    model.add(self.conv_base)\n",
        "    model.add(layers.Flatten())\n",
        "    model.add(layers.Dense(256, activation='relu'))\n",
        "    model.add(layers.Dense(1, activation='sigmoid'))\n",
        "    model.compile(\n",
        "        optimizer=optimizers.RMSprop(lr=2e-5),\n",
        "        loss='binary_crossentropy',\n",
        "        metrics=['acc']\n",
        "    )\n",
        "    \n",
        "    self.model = model\n",
        "\n",
        "  def fit(self):\n",
        "    csv_logger = CSVLogger(self.history_file, separator=',', append=False)\n",
        "    \n",
        "    self.model.fit_generator(\n",
        "        self.train_generator,\n",
        "        epochs=30,\n",
        "        steps_per_epoch=100,\n",
        "        validation_data=self.val_generator,\n",
        "        validation_steps=50,\n",
        "        callbacks=[csv_logger]\n",
        "    )\n",
        "    \n",
        "    self.model.save(self.model_file)\n",
        "    self.history = pd.read_csv(self.history_file, sep=',', engine='python')\n",
        "    \n",
        "\n",
        "  def load_model(self):\n",
        "    self.model = models.load_model(self.model_file)\n",
        "    self.history = pd.read_csv(self.history_file, sep=',', engine='python')"
      ],
      "execution_count": 0,
      "outputs": []
    },
    {
      "cell_type": "code",
      "metadata": {
        "id": "OCfmV1k29yJx",
        "colab_type": "code",
        "outputId": "1308b545-fa24-4cfc-d521-b76557f428c9",
        "colab": {
          "base_uri": "https://localhost:8080/",
          "height": 159
        }
      },
      "source": [
        "m2 = DataAugModel('subset2')\n",
        "m2.preprocess(dh)\n",
        "if (TRAIN_MODELS):\n",
        "  m2.compile_model()\n",
        "  m2.fit()\n",
        "else:\n",
        "  m2.load_model()"
      ],
      "execution_count": 0,
      "outputs": [
        {
          "output_type": "stream",
          "text": [
            "Found 2000 images belonging to 2 classes.\n",
            "Found 1000 images belonging to 2 classes.\n",
            "Found 1000 images belonging to 2 classes.\n",
            "Found 2000 images belonging to 2 classes.\n",
            "Found 1000 images belonging to 2 classes.\n"
          ],
          "name": "stdout"
        },
        {
          "output_type": "stream",
          "text": [
            "/usr/local/lib/python3.6/dist-packages/keras/engine/saving.py:350: UserWarning: Error in loading the saved optimizer state. As a result, your model is starting with a freshly initialized optimizer.\n",
            "  warnings.warn('Error in loading the saved optimizer '\n"
          ],
          "name": "stderr"
        }
      ]
    },
    {
      "cell_type": "code",
      "metadata": {
        "id": "w05iylSKAJz7",
        "colab_type": "code",
        "outputId": "4464896f-503c-44ae-d3bc-90c5cd540477",
        "colab": {
          "base_uri": "https://localhost:8080/",
          "height": 545
        }
      },
      "source": [
        "acc = m2.history['acc']\n",
        "val_acc = m2.history['val_acc']\n",
        "loss = m2.history['loss']\n",
        "val_loss = m2.history['val_loss']\n",
        "epochs = range(1, len(acc) + 1)\n",
        "plt.plot(epochs, acc, 'bo', label='Training acc')\n",
        "plt.plot(epochs, val_acc, 'b', label='Validation acc')\n",
        "plt.title('Training and validation accuracy')\n",
        "plt.legend()\n",
        "plt.grid()\n",
        "plt.figure()\n",
        "plt.plot(epochs, loss, 'bo', label='Training loss')\n",
        "plt.plot(epochs, val_loss, 'b', label='Validation loss')\n",
        "plt.title('Training and validation loss')\n",
        "plt.legend()\n",
        "plt.grid()\n",
        "plt.show()"
      ],
      "execution_count": 0,
      "outputs": [
        {
          "output_type": "display_data",
          "data": {
            "image/png": "[encoded data removed]",
            "text/plain": [
              "<Figure size 432x288 with 1 Axes>"
            ]
          },
          "metadata": {
            "tags": []
          }
        },
        {
          "output_type": "display_data",
          "data": {
            "image/png": "[encoded data removed]",
            "text/plain": [
              "<Figure size 432x288 with 1 Axes>"
            ]
          },
          "metadata": {
            "tags": []
          }
        }
      ]
    }
  ]
}