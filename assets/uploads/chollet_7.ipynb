{
  "nbformat": 4,
  "nbformat_minor": 0,
  "metadata": {
    "colab": {
      "name": "chollet_7.ipynb",
      "provenance": [],
      "collapsed_sections": []
    },
    "kernelspec": {
      "name": "python3",
      "display_name": "Python 3"
    }
  },
  "cells": [
    {
      "cell_type": "markdown",
      "metadata": {
        "id": "xc9nvxMYnmYV",
        "colab_type": "text"
      },
      "source": [
        "# Deep Learning With Python: Ch. 7\n",
        "\n",
        "**Advanced deep-learning best practices**\n",
        "\n",
        "<br>\n",
        "\n",
        "---\n",
        "## Tópicos\n",
        "* Técnicas de Programação\n",
        "  - Funções _Callback_\n",
        "  - Programação Orientada a Objetos: Classes e Herança\n",
        "* API de _callback_ do Keras\n",
        "* Boas Práticas em Deep Learning\n",
        "* Aplicações\n",
        "  - Implementação do Concrete Dropout usando Keras\n",
        "  - Fitsbook (projeto próprio)\n",
        "---"
      ]
    },
    {
      "cell_type": "markdown",
      "metadata": {
        "id": "Ugcts7Nfq8NY",
        "colab_type": "text"
      },
      "source": [
        "# Callbacks"
      ]
    },
    {
      "cell_type": "markdown",
      "metadata": {
        "id": "KqQwqY3G-l6D",
        "colab_type": "text"
      },
      "source": [
        "### 1. No Python, toda função é um objeto de primeira ordem"
      ]
    },
    {
      "cell_type": "code",
      "metadata": {
        "id": "YlOnh8pyq7Zw",
        "colab_type": "code",
        "outputId": "2397c209-be25-4cba-8c93-a37bf16cab4c",
        "colab": {
          "base_uri": "https://localhost:8080/",
          "height": 34
        }
      },
      "source": [
        "def q(x):\n",
        "  return x ** 2\n",
        "\n",
        "def p(x, func):\n",
        "  print('O quadrado de', x, 'é', func(x))\n",
        "\n",
        "p(2, q)"
      ],
      "execution_count": 0,
      "outputs": [
        {
          "output_type": "stream",
          "text": [
            "O quadrado de 2 é 4\n"
          ],
          "name": "stdout"
        }
      ]
    },
    {
      "cell_type": "markdown",
      "metadata": {
        "id": "XdGRKGUorR-0",
        "colab_type": "text"
      },
      "source": [
        "### 2. Fluxo de um programa"
      ]
    },
    {
      "cell_type": "code",
      "metadata": {
        "id": "b87YPHSokaBC",
        "colab_type": "code",
        "outputId": "8de0667b-b24e-4983-ec3e-bd82e0bb8929",
        "colab": {
          "base_uri": "https://localhost:8080/",
          "height": 85
        }
      },
      "source": [
        "import time\n",
        "\n",
        "def fit(lr):\n",
        "  print('Inicio', lr)\n",
        "  time.sleep(3)\n",
        "  print('Fim', lr)\n",
        "\n",
        "lr = 3\n",
        "fit(lr)\n",
        "lr = 5\n",
        "fit(lr)"
      ],
      "execution_count": 0,
      "outputs": [
        {
          "output_type": "stream",
          "text": [
            "Inicio 3\n",
            "Fim 3\n",
            "Inicio 5\n",
            "Fim 5\n"
          ],
          "name": "stdout"
        }
      ]
    },
    {
      "cell_type": "markdown",
      "metadata": {
        "id": "pvx2dHeS-XPo",
        "colab_type": "text"
      },
      "source": [
        "### 3. Implementação de um callback"
      ]
    },
    {
      "cell_type": "code",
      "metadata": {
        "id": "SzvfTws8-0HM",
        "colab_type": "code",
        "outputId": "8c7de1ef-3ae5-45ca-8d60-ade9c464a168",
        "colab": {
          "base_uri": "https://localhost:8080/",
          "height": 204
        }
      },
      "source": [
        "def fit(func):\n",
        "  model = {\n",
        "      'lr': 100,\n",
        "      'epoch': 0\n",
        "  }\n",
        "\n",
        "  print('Estado Inicial', model)\n",
        "\n",
        "  for i in range(10):\n",
        "    lr = func(model)\n",
        "    time.sleep(2)\n",
        "    model['epoch'] = model['epoch'] + 1\n",
        "    print(model)\n",
        "  \n",
        "def dynamic_lr(m):\n",
        "  m['lr'] = m['lr'] / 2.\n",
        "  \n",
        "fit(dynamic_lr)"
      ],
      "execution_count": 0,
      "outputs": [
        {
          "output_type": "stream",
          "text": [
            "Estado Inicial {'lr': 100, 'epoch': 0}\n",
            "{'lr': 10.0, 'epoch': 1}\n",
            "{'lr': 1.0, 'epoch': 2}\n",
            "{'lr': 0.1, 'epoch': 3}\n",
            "{'lr': 0.01, 'epoch': 4}\n",
            "{'lr': 0.001, 'epoch': 5}\n",
            "{'lr': 0.0001, 'epoch': 6}\n",
            "{'lr': 1e-05, 'epoch': 7}\n",
            "{'lr': 1.0000000000000002e-06, 'epoch': 8}\n",
            "{'lr': 1.0000000000000002e-07, 'epoch': 9}\n",
            "{'lr': 1.0000000000000002e-08, 'epoch': 10}\n"
          ],
          "name": "stdout"
        }
      ]
    },
    {
      "cell_type": "markdown",
      "metadata": {
        "id": "VbL2fiMD-3Hf",
        "colab_type": "text"
      },
      "source": [
        "# Programação Orientada a Objetos"
      ]
    },
    {
      "cell_type": "markdown",
      "metadata": {
        "id": "2Vbj8ybkDCbk",
        "colab_type": "text"
      },
      "source": [
        "## Classes: Visão Geral"
      ]
    },
    {
      "cell_type": "markdown",
      "metadata": {
        "id": "ydGyLWi8Q0s2",
        "colab_type": "text"
      },
      "source": [
        "Estrutura de dados que associa um conjunto de funções a um estado."
      ]
    },
    {
      "cell_type": "markdown",
      "metadata": {
        "id": "X6zDkAKt-9UP",
        "colab_type": "text"
      },
      "source": [
        "### Exemplo: Definindo e criando instâncias de classes"
      ]
    },
    {
      "cell_type": "code",
      "metadata": {
        "id": "Ff_shaCzDYl-",
        "colab_type": "code",
        "outputId": "ad436e0d-6316-46fc-cf7a-de05a6d816b9",
        "colab": {
          "base_uri": "https://localhost:8080/",
          "height": 102
        }
      },
      "source": [
        "class Bolo:\n",
        "  def __init__(self):\n",
        "    self.ingrediente = []\n",
        "    self.cobertura = ''\n",
        "    self.assado = False\n",
        "    self.restante = 1\n",
        "  \n",
        "  def assar(self):\n",
        "    self.assado = True\n",
        "    print('Bolo Assado')\n",
        "  \n",
        "  def colocar_cobertura(self, cobertura):\n",
        "    self.cobertura = cobertura\n",
        "\n",
        "  def comer(self):\n",
        "    if (self.restante >= .5):\n",
        "      self.restante = self.restante - .5\n",
        "      print('Hmmmm..')\n",
        "    else:\n",
        "      print('O bolo Acabou!!')\n",
        "\n",
        "bolo1 = Bolo()\n",
        "bolo1.cobertura = 'chocolate'\n",
        "bolo1.ingredientes = ['farinha', 'ovo']\n",
        "\n",
        "\n",
        "bolo1.comer()\n",
        "print(bolo1.restante)\n",
        "\n",
        "bolo2 = Bolo()\n",
        "bolo2.comer()\n",
        "bolo2.comer()\n",
        "print(bolo2.restante)"
      ],
      "execution_count": 0,
      "outputs": [
        {
          "output_type": "stream",
          "text": [
            "Hmmmm..\n",
            "0.5\n",
            "Hmmmm..\n",
            "Hmmmm..\n",
            "0.0\n"
          ],
          "name": "stdout"
        }
      ]
    },
    {
      "cell_type": "markdown",
      "metadata": {
        "id": "m-dmoBTPDOZB",
        "colab_type": "text"
      },
      "source": [
        "## Classes: Herança"
      ]
    },
    {
      "cell_type": "markdown",
      "metadata": {
        "id": "Yt-klm4RRJQu",
        "colab_type": "text"
      },
      "source": [
        "Uma forma de incorporar métodos e atributos de uma classe para outras classes. Garante a padronização do código."
      ]
    },
    {
      "cell_type": "markdown",
      "metadata": {
        "id": "UMHK42WWDRXc",
        "colab_type": "text"
      },
      "source": [
        "### Exemplo: Herança"
      ]
    },
    {
      "cell_type": "code",
      "metadata": {
        "id": "R8MhP9ZFDZOO",
        "colab_type": "code",
        "outputId": "54b994af-e8d6-4151-f454-2858610d6494",
        "colab": {
          "base_uri": "https://localhost:8080/",
          "height": 51
        }
      },
      "source": [
        "class Animal:\n",
        "  def __init__(self, pes, voa):\n",
        "    self.pes = pes\n",
        "    self.voa = voa\n",
        "\n",
        "  def comer(self):\n",
        "    print('Comendo...')\n",
        "\n",
        "  def beber(self):\n",
        "    print('Bebendo...')\n",
        "\n",
        "class Cachorro(Animal):\n",
        "  def __init__(self):\n",
        "    super(Cachorro, self).__init__(4, False)\n",
        "  \n",
        "  def comer(self):\n",
        "    print('Ração')\n",
        "\n",
        "  def latir(self):\n",
        "    print('Au Au')\n",
        "\n",
        "c = Cachorro()\n",
        "c.comer()\n",
        "c.beber()"
      ],
      "execution_count": 0,
      "outputs": [
        {
          "output_type": "stream",
          "text": [
            "Ração\n",
            "Bebendo...\n"
          ],
          "name": "stdout"
        }
      ]
    },
    {
      "cell_type": "markdown",
      "metadata": {
        "id": "Ql5QgZCfDlVL",
        "colab_type": "text"
      },
      "source": [
        "# API de Callbacks do Keras"
      ]
    },
    {
      "cell_type": "markdown",
      "metadata": {
        "id": "_kexnYSsImhr",
        "colab_type": "text"
      },
      "source": [
        "Quando se trabalha com um grande conjunto de dados e uma rede neural complexa treinando por um número alto de épocas, esperar o término da execução dos métodos **compile** e **fit** (principalmente) torna-se improdutivo, pelo alto investimento de tempo.\n",
        "\n",
        "Os callbacks ajudam a ter maior controle sobre o fluxo do programa."
      ]
    },
    {
      "cell_type": "markdown",
      "metadata": {
        "id": "RasLQ4hll63J",
        "colab_type": "text"
      },
      "source": [
        "## Aplicação 1 - Fitsbook\n",
        "\n",
        "[Link do site](https://nmcardoso.github.io/fitsbook)"
      ]
    },
    {
      "cell_type": "markdown",
      "metadata": {
        "id": "G6idZNFspUBa",
        "colab_type": "text"
      },
      "source": [
        "### Treinamento de exemplo: identificar digitos do MNIST"
      ]
    },
    {
      "cell_type": "code",
      "metadata": {
        "id": "VLUqkUGEp_ix",
        "colab_type": "code",
        "outputId": "16eaf41e-ca16-4c59-8907-c082b32087df",
        "colab": {
          "base_uri": "https://localhost:8080/",
          "height": 697
        }
      },
      "source": [
        "%tensorflow_version 1.x\n",
        "import random\n",
        "import tensorflow as tf\n",
        "import numpy as np\n",
        "from keras import backend as K\n",
        "import os\n",
        "\n",
        "from keras import layers\n",
        "from keras import models\n",
        "from keras.datasets import mnist\n",
        "from keras.utils import to_categorical\n",
        "from keras import callbacks\n",
        "\n",
        "import matplotlib.pyplot as plt\n",
        "\n",
        "!pip3 install git+https://github.com/nmcardoso/fitsbook-python\n",
        "import fitsbook as fb"
      ],
      "execution_count": 1,
      "outputs": [
        {
          "output_type": "stream",
          "text": [
            "TensorFlow 1.x selected.\n"
          ],
          "name": "stdout"
        },
        {
          "output_type": "stream",
          "text": [
            "Using TensorFlow backend.\n"
          ],
          "name": "stderr"
        },
        {
          "output_type": "stream",
          "text": [
            "Collecting git+https://github.com/nmcardoso/fitsbook-python\n",
            "  Cloning https://github.com/nmcardoso/fitsbook-python to /tmp/pip-req-build-aj70s574\n",
            "  Running command git clone -q https://github.com/nmcardoso/fitsbook-python /tmp/pip-req-build-aj70s574\n",
            "Requirement already satisfied (use --upgrade to upgrade): fitsbook==0.1 from git+https://github.com/nmcardoso/fitsbook-python in /usr/local/lib/python3.6/dist-packages\n",
            "Requirement already satisfied: requests in /usr/local/lib/python3.6/dist-packages (from fitsbook==0.1) (2.21.0)\n",
            "Requirement already satisfied: keras in /usr/local/lib/python3.6/dist-packages (from fitsbook==0.1) (2.2.5)\n",
            "Requirement already satisfied: numpy in /usr/local/lib/python3.6/dist-packages (from fitsbook==0.1) (1.18.2)\n",
            "Requirement already satisfied: tensorflow in /tensorflow-1.15.2/python3.6 (from fitsbook==0.1) (1.15.2)\n",
            "Requirement already satisfied: urllib3<1.25,>=1.21.1 in /usr/local/lib/python3.6/dist-packages (from requests->fitsbook==0.1) (1.24.3)\n",
            "Requirement already satisfied: idna<2.9,>=2.5 in /usr/local/lib/python3.6/dist-packages (from requests->fitsbook==0.1) (2.8)\n",
            "Requirement already satisfied: certifi>=2017.4.17 in /usr/local/lib/python3.6/dist-packages (from requests->fitsbook==0.1) (2019.11.28)\n",
            "Requirement already satisfied: chardet<3.1.0,>=3.0.2 in /usr/local/lib/python3.6/dist-packages (from requests->fitsbook==0.1) (3.0.4)\n",
            "Requirement already satisfied: keras-preprocessing>=1.1.0 in /usr/local/lib/python3.6/dist-packages (from keras->fitsbook==0.1) (1.1.0)\n",
            "Requirement already satisfied: keras-applications>=1.0.8 in /usr/local/lib/python3.6/dist-packages (from keras->fitsbook==0.1) (1.0.8)\n",
            "Requirement already satisfied: scipy>=0.14 in /usr/local/lib/python3.6/dist-packages (from keras->fitsbook==0.1) (1.4.1)\n",
            "Requirement already satisfied: h5py in /usr/local/lib/python3.6/dist-packages (from keras->fitsbook==0.1) (2.10.0)\n",
            "Requirement already satisfied: six>=1.9.0 in /usr/local/lib/python3.6/dist-packages (from keras->fitsbook==0.1) (1.12.0)\n",
            "Requirement already satisfied: pyyaml in /usr/local/lib/python3.6/dist-packages (from keras->fitsbook==0.1) (3.13)\n",
            "Requirement already satisfied: protobuf>=3.6.1 in /usr/local/lib/python3.6/dist-packages (from tensorflow->fitsbook==0.1) (3.10.0)\n",
            "Requirement already satisfied: wrapt>=1.11.1 in /usr/local/lib/python3.6/dist-packages (from tensorflow->fitsbook==0.1) (1.12.1)\n",
            "Requirement already satisfied: grpcio>=1.8.6 in /usr/local/lib/python3.6/dist-packages (from tensorflow->fitsbook==0.1) (1.27.2)\n",
            "Requirement already satisfied: opt-einsum>=2.3.2 in /usr/local/lib/python3.6/dist-packages (from tensorflow->fitsbook==0.1) (3.2.0)\n",
            "Requirement already satisfied: tensorflow-estimator==1.15.1 in /tensorflow-1.15.2/python3.6 (from tensorflow->fitsbook==0.1) (1.15.1)\n",
            "Requirement already satisfied: termcolor>=1.1.0 in /usr/local/lib/python3.6/dist-packages (from tensorflow->fitsbook==0.1) (1.1.0)\n",
            "Requirement already satisfied: gast==0.2.2 in /usr/local/lib/python3.6/dist-packages (from tensorflow->fitsbook==0.1) (0.2.2)\n",
            "Requirement already satisfied: tensorboard<1.16.0,>=1.15.0 in /tensorflow-1.15.2/python3.6 (from tensorflow->fitsbook==0.1) (1.15.0)\n",
            "Requirement already satisfied: wheel>=0.26; python_version >= \"3\" in /usr/local/lib/python3.6/dist-packages (from tensorflow->fitsbook==0.1) (0.34.2)\n",
            "Requirement already satisfied: astor>=0.6.0 in /usr/local/lib/python3.6/dist-packages (from tensorflow->fitsbook==0.1) (0.8.1)\n",
            "Requirement already satisfied: google-pasta>=0.1.6 in /usr/local/lib/python3.6/dist-packages (from tensorflow->fitsbook==0.1) (0.2.0)\n",
            "Requirement already satisfied: absl-py>=0.7.0 in /usr/local/lib/python3.6/dist-packages (from tensorflow->fitsbook==0.1) (0.9.0)\n",
            "Requirement already satisfied: setuptools in /usr/local/lib/python3.6/dist-packages (from protobuf>=3.6.1->tensorflow->fitsbook==0.1) (46.0.0)\n",
            "Requirement already satisfied: werkzeug>=0.11.15 in /usr/local/lib/python3.6/dist-packages (from tensorboard<1.16.0,>=1.15.0->tensorflow->fitsbook==0.1) (1.0.0)\n",
            "Requirement already satisfied: markdown>=2.6.8 in /usr/local/lib/python3.6/dist-packages (from tensorboard<1.16.0,>=1.15.0->tensorflow->fitsbook==0.1) (3.2.1)\n",
            "Building wheels for collected packages: fitsbook\n",
            "  Building wheel for fitsbook (setup.py) ... \u001b[?25l\u001b[?25hdone\n",
            "  Created wheel for fitsbook: filename=fitsbook-0.1-cp36-none-any.whl size=2181 sha256=b8f32bd3916cc03055d575bc972903f24864698f9ec0e67157f31c95bb4cb22f\n",
            "  Stored in directory: /tmp/pip-ephem-wheel-cache-hd0xdmv2/wheels/99/2a/a0/b37947be424acac83a373b37b38a2bfaa4557b049c19426655\n",
            "Successfully built fitsbook\n"
          ],
          "name": "stdout"
        }
      ]
    },
    {
      "cell_type": "code",
      "metadata": {
        "id": "6tCVEJyEqG7M",
        "colab_type": "code",
        "outputId": "36b8b740-0d6f-4bf8-d799-1e17c60bc2b5",
        "colab": {
          "base_uri": "https://localhost:8080/",
          "height": 391
        }
      },
      "source": [
        "dense_model = models.Sequential()\n",
        "dense_model.add(layers.Dense(512, activation='relu', input_shape=(28 * 28,)))\n",
        "dense_model.add(layers.Dense(10, activation='softmax'))\n",
        "dense_model.compile(optimizer='rmsprop',\n",
        "                    loss='categorical_crossentropy',\n",
        "                    metrics=['accuracy'])\n",
        "\n",
        "dense_model.summary()"
      ],
      "execution_count": 2,
      "outputs": [
        {
          "output_type": "stream",
          "text": [
            "WARNING:tensorflow:From /usr/local/lib/python3.6/dist-packages/keras/backend/tensorflow_backend.py:66: The name tf.get_default_graph is deprecated. Please use tf.compat.v1.get_default_graph instead.\n",
            "\n",
            "WARNING:tensorflow:From /usr/local/lib/python3.6/dist-packages/keras/backend/tensorflow_backend.py:541: The name tf.placeholder is deprecated. Please use tf.compat.v1.placeholder instead.\n",
            "\n",
            "WARNING:tensorflow:From /usr/local/lib/python3.6/dist-packages/keras/backend/tensorflow_backend.py:4432: The name tf.random_uniform is deprecated. Please use tf.random.uniform instead.\n",
            "\n",
            "WARNING:tensorflow:From /usr/local/lib/python3.6/dist-packages/keras/optimizers.py:793: The name tf.train.Optimizer is deprecated. Please use tf.compat.v1.train.Optimizer instead.\n",
            "\n",
            "WARNING:tensorflow:From /usr/local/lib/python3.6/dist-packages/keras/backend/tensorflow_backend.py:3576: The name tf.log is deprecated. Please use tf.math.log instead.\n",
            "\n",
            "Model: \"sequential_1\"\n",
            "_________________________________________________________________\n",
            "Layer (type)                 Output Shape              Param #   \n",
            "=================================================================\n",
            "dense_1 (Dense)              (None, 512)               401920    \n",
            "_________________________________________________________________\n",
            "dense_2 (Dense)              (None, 10)                5130      \n",
            "=================================================================\n",
            "Total params: 407,050\n",
            "Trainable params: 407,050\n",
            "Non-trainable params: 0\n",
            "_________________________________________________________________\n"
          ],
          "name": "stdout"
        }
      ]
    },
    {
      "cell_type": "code",
      "metadata": {
        "id": "ZBQOL3-6qKnj",
        "colab_type": "code",
        "outputId": "ec15712e-577e-4c3d-e48f-c753fe4accc4",
        "colab": {
          "base_uri": "https://localhost:8080/",
          "height": 51
        }
      },
      "source": [
        "(dense_train_img, dense_train_lbl), (dense_test_img, dense_test_lbl) = mnist.load_data()\n",
        "dense_train_img = dense_train_img.reshape((60000, 28 * 28))\n",
        "dense_train_img = dense_train_img.astype('float32') / 255\n",
        "\n",
        "dense_test_img = dense_test_img.reshape((10000, 28 * 28))\n",
        "dense_test_img = dense_test_img.astype('float32') / 255\n",
        "\n",
        "dense_train_lbl = to_categorical(dense_train_lbl)\n",
        "dense_test_lbl = to_categorical(dense_test_lbl)"
      ],
      "execution_count": 3,
      "outputs": [
        {
          "output_type": "stream",
          "text": [
            "Downloading data from https://s3.amazonaws.com/img-datasets/mnist.npz\n",
            "11493376/11490434 [==============================] - 0s 0us/step\n"
          ],
          "name": "stdout"
        }
      ]
    },
    {
      "cell_type": "code",
      "metadata": {
        "id": "rGu7dQLxqOgy",
        "colab_type": "code",
        "outputId": "00c08d80-ee24-4c59-e9f2-0c17810e1d5d",
        "colab": {
          "base_uri": "https://localhost:8080/",
          "height": 785
        }
      },
      "source": [
        "%%time\n",
        "dense_history = dense_model.fit(dense_train_img,\n",
        "                                dense_train_lbl, \n",
        "                                epochs=10, \n",
        "                                batch_size=128,\n",
        "                                validation_split=0.17,\n",
        "                                callbacks=[fb.callbacks.FitsbookCallback()],\n",
        "                                validation_data=(dense_test_img, dense_test_lbl))"
      ],
      "execution_count": 4,
      "outputs": [
        {
          "output_type": "stream",
          "text": [
            "WARNING:tensorflow:From /tensorflow-1.15.2/python3.6/tensorflow_core/python/ops/math_grad.py:1424: where (from tensorflow.python.ops.array_ops) is deprecated and will be removed in a future version.\n",
            "Instructions for updating:\n",
            "Use tf.where in 2.0, which has the same broadcast rule as np.where\n",
            "WARNING:tensorflow:From /usr/local/lib/python3.6/dist-packages/keras/backend/tensorflow_backend.py:1033: The name tf.assign_add is deprecated. Please use tf.compat.v1.assign_add instead.\n",
            "\n",
            "WARNING:tensorflow:From /usr/local/lib/python3.6/dist-packages/keras/backend/tensorflow_backend.py:1020: The name tf.assign is deprecated. Please use tf.compat.v1.assign instead.\n",
            "\n",
            "WARNING:tensorflow:From /usr/local/lib/python3.6/dist-packages/keras/backend/tensorflow_backend.py:3005: The name tf.Session is deprecated. Please use tf.compat.v1.Session instead.\n",
            "\n",
            "Train on 60000 samples, validate on 10000 samples\n",
            "WARNING:tensorflow:From /usr/local/lib/python3.6/dist-packages/keras/backend/tensorflow_backend.py:190: The name tf.get_default_session is deprecated. Please use tf.compat.v1.get_default_session instead.\n",
            "\n",
            "WARNING:tensorflow:From /usr/local/lib/python3.6/dist-packages/keras/backend/tensorflow_backend.py:197: The name tf.ConfigProto is deprecated. Please use tf.compat.v1.ConfigProto instead.\n",
            "\n",
            "WARNING:tensorflow:From /usr/local/lib/python3.6/dist-packages/keras/backend/tensorflow_backend.py:207: The name tf.global_variables is deprecated. Please use tf.compat.v1.global_variables instead.\n",
            "\n",
            "WARNING:tensorflow:From /usr/local/lib/python3.6/dist-packages/keras/backend/tensorflow_backend.py:216: The name tf.is_variable_initialized is deprecated. Please use tf.compat.v1.is_variable_initialized instead.\n",
            "\n",
            "WARNING:tensorflow:From /usr/local/lib/python3.6/dist-packages/keras/backend/tensorflow_backend.py:223: The name tf.variables_initializer is deprecated. Please use tf.compat.v1.variables_initializer instead.\n",
            "\n",
            "[Fitsbook]: Monitoring this training in real time https://natan.ninja/#/stats/20\n",
            "Epoch 1/10\n",
            "60000/60000 [==============================] - 6s 94us/step - loss: 0.2598 - acc: 0.9253 - val_loss: 0.1285 - val_acc: 0.9610\n",
            "Epoch 2/10\n",
            "60000/60000 [==============================] - 5s 90us/step - loss: 0.1074 - acc: 0.9684 - val_loss: 0.1120 - val_acc: 0.9646\n",
            "Epoch 3/10\n",
            "60000/60000 [==============================] - 5s 88us/step - loss: 0.0717 - acc: 0.9786 - val_loss: 0.0883 - val_acc: 0.9726\n",
            "Epoch 4/10\n",
            "60000/60000 [==============================] - 5s 88us/step - loss: 0.0528 - acc: 0.9846 - val_loss: 0.0699 - val_acc: 0.9787\n",
            "Epoch 5/10\n",
            "60000/60000 [==============================] - 5s 87us/step - loss: 0.0394 - acc: 0.9879 - val_loss: 0.0661 - val_acc: 0.9800\n",
            "Epoch 6/10\n",
            "60000/60000 [==============================] - 5s 90us/step - loss: 0.0312 - acc: 0.9909 - val_loss: 0.0657 - val_acc: 0.9806\n",
            "Epoch 7/10\n",
            "60000/60000 [==============================] - 5s 91us/step - loss: 0.0231 - acc: 0.9934 - val_loss: 0.0615 - val_acc: 0.9815\n",
            "Epoch 8/10\n",
            "60000/60000 [==============================] - 5s 87us/step - loss: 0.0187 - acc: 0.9940 - val_loss: 0.0635 - val_acc: 0.9826\n",
            "Epoch 9/10\n",
            "60000/60000 [==============================] - 5s 85us/step - loss: 0.0146 - acc: 0.9956 - val_loss: 0.0775 - val_acc: 0.9792\n",
            "Epoch 10/10\n",
            "60000/60000 [==============================] - 5s 86us/step - loss: 0.0114 - acc: 0.9966 - val_loss: 0.0703 - val_acc: 0.9825\n",
            "[Fitsbook]: Training ended successfuly. https://natan.ninja/#/stats/20\n",
            "CPU times: user 1min 22s, sys: 3.81 s, total: 1min 26s\n",
            "Wall time: 57.3 s\n"
          ],
          "name": "stdout"
        }
      ]
    },
    {
      "cell_type": "code",
      "metadata": {
        "id": "Q9Wjim04rDWo",
        "colab_type": "code",
        "outputId": "6c36b03d-99c5-461f-fcbd-c92226f3836e",
        "colab": {
          "base_uri": "https://localhost:8080/",
          "height": 411
        }
      },
      "source": [
        "def plot_figure(history):\n",
        "  epochs = history.epoch\n",
        "  plt.figure(figsize=(10, 6))\n",
        "  plt.plot(epochs, history.history['acc'], linestyle='--', color='blue', label='Train Acc')\n",
        "  plt.plot(epochs, history.history['val_acc'], color='blue', label='Validation Acc')\n",
        "  plt.plot(epochs, history.history['loss'], linestyle='--', color='green', label='Train Loss')\n",
        "  plt.plot(epochs, history.history['val_loss'], color='green', label='Validation Loss')\n",
        "  plt.grid(b=True)\n",
        "  plt.title('Dense Layers Metrics', fontsize=17)\n",
        "  plt.ylabel('Metrics', fontsize=13)\n",
        "  plt.xlabel('Epoch', fontsize=13)\n",
        "  plt.legend(fontsize='large')\n",
        "  plt.show()\n",
        "plot_figure(dense_history)"
      ],
      "execution_count": 11,
      "outputs": [
        {
          "output_type": "display_data",
          "data": {
            "image/png": "[encoded data removed]",
            "text/plain": [
              "<Figure size 720x432 with 1 Axes>"
            ]
          },
          "metadata": {
            "tags": []
          }
        }
      ]
    },
    {
      "cell_type": "markdown",
      "metadata": {
        "id": "GOJFAEW9-8B9",
        "colab_type": "text"
      },
      "source": [
        "### Eventos\n",
        "\n",
        "* on_batch_begin\n",
        "* on_batch_end\n",
        "* on_epoch_begin\n",
        "* on_epoch_end\n",
        "* on_train_begin\n",
        "* on_train_end\n",
        "\n"
      ]
    },
    {
      "cell_type": "markdown",
      "metadata": {
        "id": "HUmrFSpDN_hW",
        "colab_type": "text"
      },
      "source": [
        "### Implementações\n",
        "\n",
        "* [Keras - Módulo Callback](https://github.com/keras-team/keras/blob/master/keras/callbacks/callbacks.py#L118-L269)\n",
        "* [Keras - Função train-loop](https://github.com/keras-team/keras/blob/1cf5218edb23e575a827ca4d849f1d52d21b4bb0/keras/engine/training_arrays.py#L144-L218)\n",
        "* [FitsbookPython - Classe Callback](https://github.com/nmcardoso/fitsbook-python/blob/master/fitsbook/callbacks.py)"
      ]
    },
    {
      "cell_type": "markdown",
      "metadata": {
        "id": "vek1kFCCmGgt",
        "colab_type": "text"
      },
      "source": [
        "## Aplicação 2 - Concrete Dropout\n",
        "\n",
        "* [Artigo teórico](http://papers.neurips.cc/paper/6949-concrete-dropout.pdf)\n",
        "* [Artigo com implementação](https://arxiv.org/pdf/1705.07832.pdf)\n",
        "* [Keras - Classe Wrapper](https://github.com/keras-team/keras/blob/5be4ed3d9e7548dfa9d51d1d045a3f951d11c2b1/keras/layers/wrappers.py#L19-L113)"
      ]
    },
    {
      "cell_type": "markdown",
      "metadata": {
        "id": "zqxYufqWOPSE",
        "colab_type": "text"
      },
      "source": [
        "# Deep-learning best practices\n"
      ]
    },
    {
      "cell_type": "markdown",
      "metadata": {
        "id": "xd7WcTL_OlRf",
        "colab_type": "text"
      },
      "source": [
        "### 1. Batch Normalization\n",
        "\n",
        "Normalizar seus dados de entrada para um intervalo e centrar os dados em zero."
      ]
    },
    {
      "cell_type": "markdown",
      "metadata": {
        "id": "3QmGtSX4PDGU",
        "colab_type": "text"
      },
      "source": [
        "### 2. Depthwise separable convolution\n",
        "\n",
        "Se as localizações da imagem estão correlacionadas, mas os canais puderem ser interpretados idependentemente, faz sentido separar as camadas de convolução por canal e juntá-las depois.\n",
        "\n",
        "\n",
        "![image.png](data:image/png;base64,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)"
      ]
    },
    {
      "cell_type": "markdown",
      "metadata": {
        "id": "QFymEgYZH5OZ",
        "colab_type": "text"
      },
      "source": [
        "### 3. Hyperparameter Optimization\n",
        "\n",
        "Quando se desenvolve uma projeta uma rede neural, muitas decisões arbitrárias são tomadas. _Quantas camadas empilhar? Quantas unidades ou filtros devem ir em cada camada? Devo usar ``relu`` ou outra função de ativação? Quanto dropout devo usar?_\n",
        "\n",
        "Na prática, uma boa intuição de otimização de hiperparâmetros é construída através de várias experiências no decorrer do tempo. As decisões iniciais serão sempre subotimizadas até que se desenvolva uma boa intuição de como ajustar os hiperparâmetros.\n",
        "\n",
        "As ferramentas abaixo otimizam os hiperparâmetros automaticamente\n",
        "* Hyperopt - https://github.com/hyperopt/hyperopt\n",
        "* Hyperas - https://github.com/maxpumperla/hyperas"
      ]
    },
    {
      "cell_type": "markdown",
      "metadata": {
        "id": "bujZc8RqK1Iw",
        "colab_type": "text"
      },
      "source": [
        "### 4. Model Ensembling\n",
        "\n",
        "Compor a predição final usando predições parciais de vários modelos.\n",
        "\n",
        "```python\n",
        "preds_a = model_a.predict(x_val)\n",
        "preds_b = model_b.predict(x_val)\n",
        "preds_c = model_c.predict(x_val)\n",
        "preds_d = model_d.predict(x_val)\n",
        "final_preds = 0.5 * preds_a + 0.25 * preds_b + 0.1 * preds_c + 0.15 * preds_d\n",
        "```"
      ]
    }
  ]
}