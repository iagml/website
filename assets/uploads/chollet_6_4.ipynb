{
  "nbformat": 4,
  "nbformat_minor": 0,
  "metadata": {
    "colab": {
      "name": "Chollet_6_4.ipynb",
      "provenance": []
    },
    "kernelspec": {
      "name": "python3",
      "display_name": "Python 3"
    }
  },
  "cells": [
    {
      "cell_type": "markdown",
      "metadata": {
        "id": "t1jAeo1C4jTP",
        "colab_type": "text"
      },
      "source": [
        "# 6.4 Processando Sequências com Convnets\n",
        "\n",
        "Explicando o que são e como aplicar para o 1D.\n",
        "\n",
        "\n",
        "Implementando"
      ]
    },
    {
      "cell_type": "code",
      "metadata": {
        "id": "wclnx2Tc4h0D",
        "colab_type": "code",
        "outputId": "e50c90f5-c553-49e5-f80c-4b15025bd020",
        "colab": {
          "base_uri": "https://localhost:8080/",
          "height": 216
        }
      },
      "source": [
        "from keras.datasets import imdb\n",
        "from keras.preprocessing import sequence\n",
        "\n",
        "max_features = 10000  # number of words to consider as features\n",
        "max_len = 500  # cut texts after this number of words (among top max_features most common words)\n",
        "\n",
        "print('Loading data...')\n",
        "(x_train, y_train), (x_test, y_test) = imdb.load_data(num_words=max_features)\n",
        "print(len(x_train), 'train sequences')\n",
        "print(len(x_test), 'test sequences')\n",
        "\n",
        "print('Pad sequences (samples x time)')\n",
        "x_train = sequence.pad_sequences(x_train, maxlen=max_len)\n",
        "x_test = sequence.pad_sequences(x_test, maxlen=max_len)\n",
        "print('x_train shape:', x_train.shape)\n",
        "print('x_test shape:', x_test.shape)"
      ],
      "execution_count": 0,
      "outputs": [
        {
          "output_type": "stream",
          "text": [
            "Using TensorFlow backend.\n"
          ],
          "name": "stderr"
        },
        {
          "output_type": "display_data",
          "data": {
            "text/html": [
              "<p style=\"color: red;\">\n",
              "The default version of TensorFlow in Colab will soon switch to TensorFlow 2.x.<br>\n",
              "We recommend you <a href=\"https://www.tensorflow.org/guide/migrate\" target=\"_blank\">upgrade</a> now \n",
              "or ensure your notebook will continue to use TensorFlow 1.x via the <code>%tensorflow_version 1.x</code> magic:\n",
              "<a href=\"https://colab.research.google.com/notebooks/tensorflow_version.ipynb\" target=\"_blank\">more info</a>.</p>\n"
            ],
            "text/plain": [
              "<IPython.core.display.HTML object>"
            ]
          },
          "metadata": {
            "tags": []
          }
        },
        {
          "output_type": "stream",
          "text": [
            "Loading data...\n",
            "Downloading data from https://s3.amazonaws.com/text-datasets/imdb.npz\n",
            "17465344/17464789 [==============================] - 2s 0us/step\n",
            "25000 train sequences\n",
            "25000 test sequences\n",
            "Pad sequences (samples x time)\n",
            "x_train shape: (25000, 500)\n",
            "x_test shape: (25000, 500)\n"
          ],
          "name": "stdout"
        }
      ]
    },
    {
      "cell_type": "markdown",
      "metadata": {
        "id": "ftHRVDwC4_Yu",
        "colab_type": "text"
      },
      "source": [
        "# maxpooling\n",
        "e afins\n",
        "\n",
        "adaf"
      ]
    },
    {
      "cell_type": "code",
      "metadata": {
        "id": "28ouGEjF48EM",
        "colab_type": "code",
        "outputId": "071dec38-9491-4f3b-dc19-b5cee7f1117d",
        "colab": {
          "base_uri": "https://localhost:8080/",
          "height": 1000
        }
      },
      "source": [
        "from keras.models import Sequential\n",
        "from keras import layers\n",
        "from keras.optimizers import RMSprop\n",
        "\n",
        "model = Sequential()\n",
        "model.add(layers.Embedding(max_features, 128, input_length=max_len))\n",
        "model.add(layers.Conv1D(32, 7, activation='relu'))\n",
        "model.add(layers.MaxPooling1D(5))\n",
        "model.add(layers.Conv1D(32, 7, activation='relu'))\n",
        "model.add(layers.GlobalMaxPooling1D())\n",
        "model.add(layers.Dense(1))\n",
        "\n",
        "model.summary()\n",
        "\n",
        "model.compile(optimizer=RMSprop(lr=1e-4),\n",
        "              loss='binary_crossentropy',\n",
        "              metrics=['acc'])\n",
        "history = model.fit(x_train, y_train,\n",
        "                    epochs=10,\n",
        "                    batch_size=128,\n",
        "                    validation_split=0.2)\n"
      ],
      "execution_count": 0,
      "outputs": [
        {
          "output_type": "stream",
          "text": [
            "WARNING:tensorflow:From /usr/local/lib/python3.6/dist-packages/keras/backend/tensorflow_backend.py:66: The name tf.get_default_graph is deprecated. Please use tf.compat.v1.get_default_graph instead.\n",
            "\n",
            "WARNING:tensorflow:From /usr/local/lib/python3.6/dist-packages/keras/backend/tensorflow_backend.py:541: The name tf.placeholder is deprecated. Please use tf.compat.v1.placeholder instead.\n",
            "\n",
            "WARNING:tensorflow:From /usr/local/lib/python3.6/dist-packages/keras/backend/tensorflow_backend.py:4432: The name tf.random_uniform is deprecated. Please use tf.random.uniform instead.\n",
            "\n",
            "WARNING:tensorflow:From /usr/local/lib/python3.6/dist-packages/keras/backend/tensorflow_backend.py:4267: The name tf.nn.max_pool is deprecated. Please use tf.nn.max_pool2d instead.\n",
            "\n",
            "Model: \"sequential_1\"\n",
            "_________________________________________________________________\n",
            "Layer (type)                 Output Shape              Param #   \n",
            "=================================================================\n",
            "embedding_1 (Embedding)      (None, 500, 128)          1280000   \n",
            "_________________________________________________________________\n",
            "conv1d_1 (Conv1D)            (None, 494, 32)           28704     \n",
            "_________________________________________________________________\n",
            "max_pooling1d_1 (MaxPooling1 (None, 98, 32)            0         \n",
            "_________________________________________________________________\n",
            "conv1d_2 (Conv1D)            (None, 92, 32)            7200      \n",
            "_________________________________________________________________\n",
            "global_max_pooling1d_1 (Glob (None, 32)                0         \n",
            "_________________________________________________________________\n",
            "dense_1 (Dense)              (None, 1)                 33        \n",
            "=================================================================\n",
            "Total params: 1,315,937\n",
            "Trainable params: 1,315,937\n",
            "Non-trainable params: 0\n",
            "_________________________________________________________________\n",
            "WARNING:tensorflow:From /usr/local/lib/python3.6/dist-packages/keras/optimizers.py:793: The name tf.train.Optimizer is deprecated. Please use tf.compat.v1.train.Optimizer instead.\n",
            "\n",
            "WARNING:tensorflow:From /usr/local/lib/python3.6/dist-packages/keras/backend/tensorflow_backend.py:3657: The name tf.log is deprecated. Please use tf.math.log instead.\n",
            "\n",
            "WARNING:tensorflow:From /usr/local/lib/python3.6/dist-packages/tensorflow_core/python/ops/nn_impl.py:183: where (from tensorflow.python.ops.array_ops) is deprecated and will be removed in a future version.\n",
            "Instructions for updating:\n",
            "Use tf.where in 2.0, which has the same broadcast rule as np.where\n",
            "WARNING:tensorflow:From /usr/local/lib/python3.6/dist-packages/keras/backend/tensorflow_backend.py:1033: The name tf.assign_add is deprecated. Please use tf.compat.v1.assign_add instead.\n",
            "\n",
            "WARNING:tensorflow:From /usr/local/lib/python3.6/dist-packages/keras/backend/tensorflow_backend.py:1020: The name tf.assign is deprecated. Please use tf.compat.v1.assign instead.\n",
            "\n",
            "WARNING:tensorflow:From /usr/local/lib/python3.6/dist-packages/keras/backend/tensorflow_backend.py:3005: The name tf.Session is deprecated. Please use tf.compat.v1.Session instead.\n",
            "\n",
            "Train on 20000 samples, validate on 5000 samples\n",
            "Epoch 1/10\n",
            "WARNING:tensorflow:From /usr/local/lib/python3.6/dist-packages/keras/backend/tensorflow_backend.py:190: The name tf.get_default_session is deprecated. Please use tf.compat.v1.get_default_session instead.\n",
            "\n",
            "WARNING:tensorflow:From /usr/local/lib/python3.6/dist-packages/keras/backend/tensorflow_backend.py:197: The name tf.ConfigProto is deprecated. Please use tf.compat.v1.ConfigProto instead.\n",
            "\n",
            "WARNING:tensorflow:From /usr/local/lib/python3.6/dist-packages/keras/backend/tensorflow_backend.py:207: The name tf.global_variables is deprecated. Please use tf.compat.v1.global_variables instead.\n",
            "\n",
            "WARNING:tensorflow:From /usr/local/lib/python3.6/dist-packages/keras/backend/tensorflow_backend.py:216: The name tf.is_variable_initialized is deprecated. Please use tf.compat.v1.is_variable_initialized instead.\n",
            "\n",
            "WARNING:tensorflow:From /usr/local/lib/python3.6/dist-packages/keras/backend/tensorflow_backend.py:223: The name tf.variables_initializer is deprecated. Please use tf.compat.v1.variables_initializer instead.\n",
            "\n",
            "20000/20000 [==============================] - 69s 3ms/step - loss: 0.9044 - acc: 0.5033 - val_loss: 0.6892 - val_acc: 0.5614\n",
            "Epoch 2/10\n",
            "20000/20000 [==============================] - 68s 3ms/step - loss: 0.6759 - acc: 0.6307 - val_loss: 0.6718 - val_acc: 0.6138\n",
            "Epoch 3/10\n",
            "20000/20000 [==============================] - 69s 3ms/step - loss: 0.6389 - acc: 0.7502 - val_loss: 0.6346 - val_acc: 0.7098\n",
            "Epoch 4/10\n",
            "20000/20000 [==============================] - 69s 3ms/step - loss: 0.5736 - acc: 0.8034 - val_loss: 0.5479 - val_acc: 0.7924\n",
            "Epoch 5/10\n",
            "20000/20000 [==============================] - 70s 3ms/step - loss: 0.4527 - acc: 0.8400 - val_loss: 0.4428 - val_acc: 0.8274\n",
            "Epoch 6/10\n",
            "20000/20000 [==============================] - 70s 4ms/step - loss: 0.3631 - acc: 0.8656 - val_loss: 0.4262 - val_acc: 0.8282\n",
            "Epoch 7/10\n",
            "20000/20000 [==============================] - 70s 3ms/step - loss: 0.3148 - acc: 0.8746 - val_loss: 0.4062 - val_acc: 0.8378\n",
            "Epoch 8/10\n",
            "20000/20000 [==============================] - 70s 4ms/step - loss: 0.2789 - acc: 0.8740 - val_loss: 0.4294 - val_acc: 0.8258\n",
            "Epoch 9/10\n",
            "20000/20000 [==============================] - 70s 4ms/step - loss: 0.2517 - acc: 0.8563 - val_loss: 0.4402 - val_acc: 0.8070\n",
            "Epoch 10/10\n",
            "20000/20000 [==============================] - 71s 4ms/step - loss: 0.2260 - acc: 0.8428 - val_loss: 0.4526 - val_acc: 0.7894\n"
          ],
          "name": "stdout"
        }
      ]
    },
    {
      "cell_type": "markdown",
      "metadata": {
        "id": "IjotiJC55JXU",
        "colab_type": "text"
      },
      "source": [
        "# textos explicativos\n",
        "\n",
        "dos resultados"
      ]
    },
    {
      "cell_type": "code",
      "metadata": {
        "id": "1yRStBx45GfK",
        "colab_type": "code",
        "outputId": "0ba3e4ed-a938-4692-f2cf-53a4d9932dc4",
        "colab": {
          "base_uri": "https://localhost:8080/",
          "height": 545
        }
      },
      "source": [
        "import matplotlib.pyplot as plt\n",
        "\n",
        "acc = history.history['acc']\n",
        "val_acc = history.history['val_acc']\n",
        "loss = history.history['loss']\n",
        "val_loss = history.history['val_loss']\n",
        "\n",
        "epochs = range(len(acc))\n",
        "\n",
        "plt.plot(epochs, acc, 'bo', label='Training acc')\n",
        "plt.plot(epochs, val_acc, 'b', label='Validation acc')\n",
        "plt.title('Training and validation accuracy')\n",
        "plt.legend()\n",
        "\n",
        "plt.figure()\n",
        "\n",
        "plt.plot(epochs, loss, 'bo', label='Training loss')\n",
        "plt.plot(epochs, val_loss, 'b', label='Validation loss')\n",
        "plt.title('Training and validation loss')\n",
        "plt.legend()\n",
        "\n",
        "plt.show()\n"
      ],
      "execution_count": 0,
      "outputs": [
        {
          "output_type": "display_data",
          "data": {
            "image/png": "[encoded data removed]",
            "text/plain": [
              "<Figure size 432x288 with 1 Axes>"
            ]
          },
          "metadata": {
            "tags": []
          }
        },
        {
          "output_type": "display_data",
          "data": {
            "image/png": "[encoded data removed]",
            "text/plain": [
              "<Figure size 432x288 with 1 Axes>"
            ]
          },
          "metadata": {
            "tags": []
          }
        }
      ]
    },
    {
      "cell_type": "markdown",
      "metadata": {
        "id": "qY8SBk6D5WMs",
        "colab_type": "text"
      },
      "source": [
        "# Combining CNNs and RNNs to process long sequences\n",
        "\n",
        "jsa\n",
        "\n",
        "dsf"
      ]
    },
    {
      "cell_type": "code",
      "metadata": {
        "id": "j8-g49Tf8heO",
        "colab_type": "code",
        "outputId": "ab924667-96c7-4d52-de88-b85345f59aea",
        "colab": {
          "base_uri": "https://localhost:8080/",
          "height": 122
        }
      },
      "source": [
        "from google.colab import drive\n",
        "drive.mount('/content/drive')"
      ],
      "execution_count": 0,
      "outputs": [
        {
          "output_type": "stream",
          "text": [
            "Go to this URL in a browser: https://accounts.google.com/o/oauth2/auth?client_id=947318989803-6bn6qk8qdgf4n4g3pfee6491hc0brc4i.apps.googleusercontent.com&redirect_uri=urn%3aietf%3awg%3aoauth%3a2.0%3aoob&response_type=code&scope=email%20https%3a%2f%2fwww.googleapis.com%2fauth%2fdocs.test%20https%3a%2f%2fwww.googleapis.com%2fauth%2fdrive%20https%3a%2f%2fwww.googleapis.com%2fauth%2fdrive.photos.readonly%20https%3a%2f%2fwww.googleapis.com%2fauth%2fpeopleapi.readonly\n",
            "\n",
            "Enter your authorization code:\n",
            "··········\n",
            "Mounted at /content/drive\n"
          ],
          "name": "stdout"
        }
      ]
    },
    {
      "cell_type": "code",
      "metadata": {
        "id": "vNWM13ug5RE7",
        "colab_type": "code",
        "colab": {}
      },
      "source": [
        "# We reuse the following variables defined in the last section:\n",
        "# float_data, train_gen, val_gen, val_steps\n",
        "\n",
        "import os\n",
        "import numpy as np\n",
        "\n",
        "data_dir = '/content/drive/My Drive/Deep_Learning/'\n",
        "fname = os.path.join(data_dir, 'jena_climate_2009_2016.csv')\n",
        "\n",
        "f = open(fname)\n",
        "data = f.read()\n",
        "f.close()\n",
        "\n",
        "lines = data.split('\\n')\n",
        "header = lines[0].split(',')\n",
        "lines = lines[1:]\n",
        "\n",
        "float_data = np.zeros((len(lines), len(header) - 1))\n",
        "for i, line in enumerate(lines):\n",
        "    values = [float(x) for x in line.split(',')[1:]]\n",
        "    float_data[i, :] = values\n",
        "    \n",
        "mean = float_data[:200000].mean(axis=0)\n",
        "float_data -= mean\n",
        "std = float_data[:200000].std(axis=0)\n",
        "float_data /= std\n",
        "\n",
        "def generator(data, lookback, delay, min_index, max_index,\n",
        "              shuffle=False, batch_size=128, step=6):\n",
        "    if max_index is None:\n",
        "        max_index = len(data) - delay - 1\n",
        "    i = min_index + lookback\n",
        "    while 1:\n",
        "        if shuffle:\n",
        "            rows = np.random.randint(\n",
        "                min_index + lookback, max_index, size=batch_size)\n",
        "        else:\n",
        "            if i + batch_size >= max_index:\n",
        "                i = min_index + lookback\n",
        "            rows = np.arange(i, min(i + batch_size, max_index))\n",
        "            i += len(rows)\n",
        "\n",
        "        samples = np.zeros((len(rows),\n",
        "                           lookback // step,\n",
        "                           data.shape[-1]))\n",
        "        targets = np.zeros((len(rows),))\n",
        "        for j, row in enumerate(rows):\n",
        "            indices = range(rows[j] - lookback, rows[j], step)\n",
        "            samples[j] = data[indices]\n",
        "            targets[j] = data[rows[j] + delay][1]\n",
        "        yield samples, targets\n",
        "        \n",
        "lookback = 1440\n",
        "step = 6\n",
        "delay = 144\n",
        "batch_size = 128\n",
        "\n",
        "train_gen = generator(float_data,\n",
        "                      lookback=lookback,\n",
        "                      delay=delay,\n",
        "                      min_index=0,\n",
        "                      max_index=200000,\n",
        "                      shuffle=True,\n",
        "                      step=step, \n",
        "                      batch_size=batch_size)\n",
        "val_gen = generator(float_data,\n",
        "                    lookback=lookback,\n",
        "                    delay=delay,\n",
        "                    min_index=200001,\n",
        "                    max_index=300000,\n",
        "                    step=step,\n",
        "                    batch_size=batch_size)\n",
        "test_gen = generator(float_data,\n",
        "                     lookback=lookback,\n",
        "                     delay=delay,\n",
        "                     min_index=300001,\n",
        "                     max_index=None,\n",
        "                     step=step,\n",
        "                     batch_size=batch_size)\n",
        "\n",
        "# This is how many steps to draw from `val_gen`\n",
        "# in order to see the whole validation set:\n",
        "val_steps = (300000 - 200001 - lookback) // batch_size\n",
        "\n",
        "# This is how many steps to draw from `test_gen`\n",
        "# in order to see the whole test set:\n",
        "test_steps = (len(float_data) - 300001 - lookback) // batch_size"
      ],
      "execution_count": 0,
      "outputs": []
    },
    {
      "cell_type": "code",
      "metadata": {
        "id": "5a3y2f-85b0S",
        "colab_type": "code",
        "outputId": "a0dab214-cf0f-499a-8de6-0f6b73eb09fb",
        "colab": {
          "base_uri": "https://localhost:8080/",
          "height": 697
        }
      },
      "source": [
        "from keras.models import Sequential\n",
        "from keras import layers\n",
        "from keras.optimizers import RMSprop\n",
        "\n",
        "model = Sequential()\n",
        "model.add(layers.Conv1D(32, 5, activation='relu',\n",
        "                        input_shape=(None, float_data.shape[-1])))\n",
        "model.add(layers.MaxPooling1D(3))\n",
        "model.add(layers.Conv1D(32, 5, activation='relu'))\n",
        "model.add(layers.MaxPooling1D(3))\n",
        "model.add(layers.Conv1D(32, 5, activation='relu'))\n",
        "model.add(layers.GlobalMaxPooling1D())\n",
        "model.add(layers.Dense(1))\n",
        "\n",
        "model.compile(optimizer=RMSprop(), loss='mae')\n",
        "history = model.fit_generator(train_gen,\n",
        "                              steps_per_epoch=500,\n",
        "                              epochs=20,\n",
        "                              validation_data=val_gen,\n",
        "                              validation_steps=val_steps)"
      ],
      "execution_count": 0,
      "outputs": [
        {
          "output_type": "stream",
          "text": [
            "Epoch 1/20\n",
            "500/500 [==============================] - 39s 78ms/step - loss: 0.4198 - val_loss: 0.4475\n",
            "Epoch 2/20\n",
            "500/500 [==============================] - 39s 79ms/step - loss: 0.3667 - val_loss: 0.4569\n",
            "Epoch 3/20\n",
            "500/500 [==============================] - 39s 78ms/step - loss: 0.3448 - val_loss: 0.4594\n",
            "Epoch 4/20\n",
            "500/500 [==============================] - 38s 76ms/step - loss: 0.3329 - val_loss: 0.4418\n",
            "Epoch 5/20\n",
            "500/500 [==============================] - 38s 77ms/step - loss: 0.3209 - val_loss: 0.4831\n",
            "Epoch 6/20\n",
            "500/500 [==============================] - 39s 78ms/step - loss: 0.3113 - val_loss: 0.4537\n",
            "Epoch 7/20\n",
            "500/500 [==============================] - 39s 78ms/step - loss: 0.3021 - val_loss: 0.5077\n",
            "Epoch 8/20\n",
            "500/500 [==============================] - 39s 79ms/step - loss: 0.2962 - val_loss: 0.4664\n",
            "Epoch 9/20\n",
            "500/500 [==============================] - 39s 78ms/step - loss: 0.2900 - val_loss: 0.4604\n",
            "Epoch 10/20\n",
            "500/500 [==============================] - 40s 80ms/step - loss: 0.2841 - val_loss: 0.4778\n",
            "Epoch 11/20\n",
            "500/500 [==============================] - 39s 78ms/step - loss: 0.2811 - val_loss: 0.4599\n",
            "Epoch 12/20\n",
            "500/500 [==============================] - 39s 79ms/step - loss: 0.2769 - val_loss: 0.4906\n",
            "Epoch 13/20\n",
            "500/500 [==============================] - 40s 80ms/step - loss: 0.2727 - val_loss: 0.4843\n",
            "Epoch 14/20\n",
            "500/500 [==============================] - 40s 80ms/step - loss: 0.2722 - val_loss: 0.4855\n",
            "Epoch 15/20\n",
            "500/500 [==============================] - 40s 81ms/step - loss: 0.2696 - val_loss: 0.4654\n",
            "Epoch 16/20\n",
            "500/500 [==============================] - 41s 81ms/step - loss: 0.2668 - val_loss: 0.4682\n",
            "Epoch 17/20\n",
            "500/500 [==============================] - 41s 82ms/step - loss: 0.2644 - val_loss: 0.4901\n",
            "Epoch 18/20\n",
            "500/500 [==============================] - 41s 82ms/step - loss: 0.2646 - val_loss: 0.4828\n",
            "Epoch 19/20\n",
            "500/500 [==============================] - 41s 82ms/step - loss: 0.2619 - val_loss: 0.4833\n",
            "Epoch 20/20\n",
            "500/500 [==============================] - 41s 82ms/step - loss: 0.2581 - val_loss: 0.5027\n"
          ],
          "name": "stdout"
        }
      ]
    },
    {
      "cell_type": "code",
      "metadata": {
        "id": "EXXmAn6H5d83",
        "colab_type": "code",
        "outputId": "c820666f-7b22-4788-f85f-422cc62371d6",
        "colab": {
          "base_uri": "https://localhost:8080/",
          "height": 281
        }
      },
      "source": [
        "import matplotlib.pyplot as plt\n",
        "\n",
        "loss = history.history['loss']\n",
        "val_loss = history.history['val_loss']\n",
        "\n",
        "epochs = range(len(loss))\n",
        "\n",
        "plt.figure()\n",
        "\n",
        "plt.plot(epochs, loss, 'bo', label='Training loss')\n",
        "plt.plot(epochs, val_loss, 'b', label='Validation loss')\n",
        "plt.title('Training and validation loss')\n",
        "plt.legend()\n",
        "\n",
        "plt.show()"
      ],
      "execution_count": 0,
      "outputs": [
        {
          "output_type": "display_data",
          "data": {
            "image/png": "[encoded data removed]",
            "text/plain": [
              "<Figure size 432x288 with 1 Axes>"
            ]
          },
          "metadata": {
            "tags": []
          }
        }
      ]
    },
    {
      "cell_type": "markdown",
      "metadata": {
        "id": "cOqpGLDJ5icE",
        "colab_type": "text"
      },
      "source": [
        "# textos\n",
        "\n",
        "# textos\n",
        "\n",
        "# textos"
      ]
    },
    {
      "cell_type": "code",
      "metadata": {
        "id": "KfhysvW25gcd",
        "colab_type": "code",
        "colab": {}
      },
      "source": [
        "# This was previously set to 6 (one point per hour).\n",
        "# Now 3 (one point per 30 min).\n",
        "step = 3\n",
        "lookback = 720  # Unchanged\n",
        "delay = 144 # Unchanged\n",
        "\n",
        "train_gen = generator(float_data,\n",
        "                      lookback=lookback,\n",
        "                      delay=delay,\n",
        "                      min_index=0,\n",
        "                      max_index=200000,\n",
        "                      shuffle=True,\n",
        "                      step=step)\n",
        "val_gen = generator(float_data,\n",
        "                    lookback=lookback,\n",
        "                    delay=delay,\n",
        "                    min_index=200001,\n",
        "                    max_index=300000,\n",
        "                    step=step)\n",
        "test_gen = generator(float_data,\n",
        "                     lookback=lookback,\n",
        "                     delay=delay,\n",
        "                     min_index=300001,\n",
        "                     max_index=None,\n",
        "                     step=step)\n",
        "val_steps = (300000 - 200001 - lookback) // 128\n",
        "test_steps = (len(float_data) - 300001 - lookback) // 128"
      ],
      "execution_count": 0,
      "outputs": []
    },
    {
      "cell_type": "code",
      "metadata": {
        "id": "mzKgdZ8y5n9N",
        "colab_type": "code",
        "outputId": "1b3cc844-f710-47ad-df1c-17092def3e1b",
        "colab": {
          "base_uri": "https://localhost:8080/",
          "height": 1000
        }
      },
      "source": [
        "\n",
        "model = Sequential()\n",
        "model.add(layers.Conv1D(32, 5, activation='relu',\n",
        "                        input_shape=(None, float_data.shape[-1])))\n",
        "model.add(layers.MaxPooling1D(3))\n",
        "model.add(layers.Conv1D(32, 5, activation='relu'))\n",
        "model.add(layers.GRU(32, dropout=0.1, recurrent_dropout=0.5))\n",
        "model.add(layers.Dense(1))\n",
        "\n",
        "model.summary()\n",
        "\n",
        "model.compile(optimizer=RMSprop(), loss='mae')\n",
        "history = model.fit_generator(train_gen,\n",
        "                              steps_per_epoch=500,\n",
        "                              epochs=20,\n",
        "                              validation_data=val_gen,\n",
        "                              validation_steps=val_steps)"
      ],
      "execution_count": 0,
      "outputs": [
        {
          "output_type": "stream",
          "text": [
            "WARNING:tensorflow:From /usr/local/lib/python3.6/dist-packages/keras/backend/tensorflow_backend.py:148: The name tf.placeholder_with_default is deprecated. Please use tf.compat.v1.placeholder_with_default instead.\n",
            "\n",
            "WARNING:tensorflow:From /usr/local/lib/python3.6/dist-packages/keras/backend/tensorflow_backend.py:3733: calling dropout (from tensorflow.python.ops.nn_ops) with keep_prob is deprecated and will be removed in a future version.\n",
            "Instructions for updating:\n",
            "Please use `rate` instead of `keep_prob`. Rate should be set to `rate = 1 - keep_prob`.\n",
            "Model: \"sequential_4\"\n",
            "_________________________________________________________________\n",
            "Layer (type)                 Output Shape              Param #   \n",
            "=================================================================\n",
            "conv1d_6 (Conv1D)            (None, None, 32)          2272      \n",
            "_________________________________________________________________\n",
            "max_pooling1d_4 (MaxPooling1 (None, None, 32)          0         \n",
            "_________________________________________________________________\n",
            "conv1d_7 (Conv1D)            (None, None, 32)          5152      \n",
            "_________________________________________________________________\n",
            "gru_1 (GRU)                  (None, 32)                6240      \n",
            "_________________________________________________________________\n",
            "dense_3 (Dense)              (None, 1)                 33        \n",
            "=================================================================\n",
            "Total params: 13,697\n",
            "Trainable params: 13,697\n",
            "Non-trainable params: 0\n",
            "_________________________________________________________________\n",
            "Epoch 1/20\n",
            "500/500 [==============================] - 80s 159ms/step - loss: 0.3368 - val_loss: 0.2939\n",
            "Epoch 2/20\n",
            "500/500 [==============================] - 78s 156ms/step - loss: 0.3066 - val_loss: 0.2837\n",
            "Epoch 3/20\n",
            "500/500 [==============================] - 78s 156ms/step - loss: 0.2942 - val_loss: 0.2756\n",
            "Epoch 4/20\n",
            "500/500 [==============================] - 77s 155ms/step - loss: 0.2856 - val_loss: 0.2774\n",
            "Epoch 5/20\n",
            "500/500 [==============================] - 77s 154ms/step - loss: 0.2797 - val_loss: 0.2844\n",
            "Epoch 6/20\n",
            "500/500 [==============================] - 77s 155ms/step - loss: 0.2754 - val_loss: 0.2818\n",
            "Epoch 7/20\n",
            "500/500 [==============================] - 78s 155ms/step - loss: 0.2687 - val_loss: 0.2816\n",
            "Epoch 8/20\n",
            "500/500 [==============================] - 77s 154ms/step - loss: 0.2647 - val_loss: 0.2868\n",
            "Epoch 9/20\n",
            "500/500 [==============================] - 77s 154ms/step - loss: 0.2604 - val_loss: 0.2848\n",
            "Epoch 10/20\n",
            "500/500 [==============================] - 77s 153ms/step - loss: 0.2562 - val_loss: 0.2865\n",
            "Epoch 11/20\n",
            "500/500 [==============================] - 76s 152ms/step - loss: 0.2519 - val_loss: 0.2945\n",
            "Epoch 12/20\n",
            "500/500 [==============================] - 76s 152ms/step - loss: 0.2482 - val_loss: 0.2912\n",
            "Epoch 13/20\n",
            "500/500 [==============================] - 76s 151ms/step - loss: 0.2464 - val_loss: 0.2911\n",
            "Epoch 14/20\n",
            "500/500 [==============================] - 76s 152ms/step - loss: 0.2419 - val_loss: 0.2944\n",
            "Epoch 15/20\n",
            "500/500 [==============================] - 76s 153ms/step - loss: 0.2400 - val_loss: 0.2889\n",
            "Epoch 16/20\n",
            "500/500 [==============================] - 76s 152ms/step - loss: 0.2397 - val_loss: 0.2968\n",
            "Epoch 17/20\n",
            "500/500 [==============================] - 76s 152ms/step - loss: 0.2352 - val_loss: 0.2966\n",
            "Epoch 18/20\n",
            "500/500 [==============================] - 76s 152ms/step - loss: 0.2319 - val_loss: 0.2991\n",
            "Epoch 19/20\n",
            "500/500 [==============================] - 77s 153ms/step - loss: 0.2313 - val_loss: 0.3063\n"
          ],
          "name": "stdout"
        }
      ]
    },
    {
      "cell_type": "code",
      "metadata": {
        "id": "VcKpqLsW5qCE",
        "colab_type": "code",
        "outputId": "e22d2143-3ea3-4a2a-ea3d-52b1218549dc",
        "colab": {
          "base_uri": "https://localhost:8080/",
          "height": 281
        }
      },
      "source": [
        "loss = history.history['loss']\n",
        "val_loss = history.history['val_loss']\n",
        "\n",
        "epochs = range(len(loss))\n",
        "\n",
        "plt.figure()\n",
        "\n",
        "plt.plot(epochs, loss, 'bo', label='Training loss')\n",
        "plt.plot(epochs, val_loss, 'b', label='Validation loss')\n",
        "plt.title('Training and validation loss')\n",
        "plt.legend()\n",
        "\n",
        "plt.show()"
      ],
      "execution_count": 0,
      "outputs": [
        {
          "output_type": "display_data",
          "data": {
            "image/png": "[encoded data removed]",
            "text/plain": [
              "<Figure size 432x288 with 1 Axes>"
            ]
          },
          "metadata": {
            "tags": []
          }
        }
      ]
    },
    {
      "cell_type": "code",
      "metadata": {
        "id": "jsJOrZ3C5sxq",
        "colab_type": "code",
        "colab": {}
      },
      "source": [
        ""
      ],
      "execution_count": 0,
      "outputs": []
    }
  ]
}