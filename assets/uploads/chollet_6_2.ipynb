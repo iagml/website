{
  "nbformat": 4,
  "nbformat_minor": 0,
  "metadata": {
    "colab": {
      "name": "Chollet_6_2.ipynb",
      "provenance": []
    },
    "kernelspec": {
      "name": "python3",
      "display_name": "Python 3"
    }
  },
  "cells": [
    {
      "cell_type": "markdown",
      "metadata": {
        "id": "oKXzrzOCcjfe",
        "colab_type": "text"
      },
      "source": [
        "# Entendimento das redes neurais recorrentes\n",
        "\n",
        "- Redes neurais, em geral, não guardam informações na memória\n",
        "- Rede aplicada ao IMDB: treino utilizando cada review como um todo => **feedfoward network**\n",
        "\n",
        "- Processo de leitura do ser humano: processamento incremental, com informações mantidas na memória e entendidas conforme se lê\n",
        "\n",
        "-  **Rede neural recorrente**: versão simplificada da leitura humana => processamento das sequências de texto sem perder a memória/contexto das sequências anteriores.\n",
        "\n",
        "![alt text](https://miro.medium.com/max/824/1*FKOv5k_7x0kW5lXbltMiCQ.png)\n",
        "\n",
        "- Ainda assim, uma RNN considera um review por vez e de forma independente"
      ]
    },
    {
      "cell_type": "markdown",
      "metadata": {
        "id": "-61EL69Tme8o",
        "colab_type": "text"
      },
      "source": [
        "### Implementação simplificada em Numpy"
      ]
    },
    {
      "cell_type": "code",
      "metadata": {
        "id": "v3WwNBpdcWsV",
        "colab_type": "code",
        "colab": {}
      },
      "source": [
        "import numpy as np\n",
        "timesteps = 100\n",
        "input_features = 32\n",
        "output_features = 64\n",
        "inputs = np.random.random((timesteps, input_features))\n",
        "state_t = np.zeros((output_features,))\n",
        "W = np.random.random((output_features, input_features))\n",
        "U = np.random.random((output_features, output_features))\n",
        "b = np.random.random((output_features,))\n",
        "successive_outputs = []\n",
        "for input_t in inputs:\n",
        "  output_t = np.tanh(np.dot(W, input_t) + np.dot(U, state_t) + b)\n",
        "  successive_outputs.append(output_t)\n",
        "  state_t = output_t\n",
        "final_output_sequence = np.concatenate(successive_outputs, axis=0)"
      ],
      "execution_count": 0,
      "outputs": []
    },
    {
      "cell_type": "markdown",
      "metadata": {
        "id": "qz4N4kTjmqlX",
        "colab_type": "text"
      },
      "source": [
        "> RNN é um código em laço que reutiliza quantidades calculadas em iterações anteriors. Um das principais características de uma RNN é a **step function** utilizada.\n",
        "\n",
        "![alt text](https://www.researchgate.net/profile/Filippo_Maria_Bianchi/publication/320970557/figure/fig3/AS:667605689978886@1536181008310/The-diagram-depicts-the-RNN-from-Fig-1-being-unfolded-or-unrolled-into-a-FFNN-As-we.png)"
      ]
    },
    {
      "cell_type": "markdown",
      "metadata": {
        "id": "f7LKuXFvojTm",
        "colab_type": "text"
      },
      "source": [
        "### RNN no Keras\n",
        "\n",
        "- Ao contrário da implementação simplificada com Numpy, a rede SimplesRNN processa os dados em *batch* ao invés de toda a sequência de uma vez só.\n",
        "- Dois modos diferentes: retorna a sequência inteira de sucessivos outputs ou apenas o último output para cada sequência. (comando *return_sequences*)\n"
      ]
    },
    {
      "cell_type": "code",
      "metadata": {
        "id": "aww3B6Ijj-Md",
        "colab_type": "code",
        "outputId": "ef1297fd-6ae4-48e0-aa08-8169b7319768",
        "colab": {
          "base_uri": "https://localhost:8080/",
          "height": 406
        }
      },
      "source": [
        "# Último output\n",
        "from keras.layers import SimpleRNN\n",
        "\n",
        "from keras.models import Sequential\n",
        "from keras.layers import Embedding, SimpleRNN\n",
        "model = Sequential()\n",
        "model.add(Embedding(10000, 32))\n",
        "model.add(SimpleRNN(32))\n",
        "model.summary()"
      ],
      "execution_count": 0,
      "outputs": [
        {
          "output_type": "stream",
          "text": [
            "Using TensorFlow backend.\n"
          ],
          "name": "stderr"
        },
        {
          "output_type": "display_data",
          "data": {
            "text/html": [
              "<p style=\"color: red;\">\n",
              "The default version of TensorFlow in Colab will soon switch to TensorFlow 2.x.<br>\n",
              "We recommend you <a href=\"https://www.tensorflow.org/guide/migrate\" target=\"_blank\">upgrade</a> now \n",
              "or ensure your notebook will continue to use TensorFlow 1.x via the <code>%tensorflow_version 1.x</code> magic:\n",
              "<a href=\"https://colab.research.google.com/notebooks/tensorflow_version.ipynb\" target=\"_blank\">more info</a>.</p>\n"
            ],
            "text/plain": [
              "<IPython.core.display.HTML object>"
            ]
          },
          "metadata": {
            "tags": []
          }
        },
        {
          "output_type": "stream",
          "text": [
            "WARNING:tensorflow:From /usr/local/lib/python3.6/dist-packages/keras/backend/tensorflow_backend.py:66: The name tf.get_default_graph is deprecated. Please use tf.compat.v1.get_default_graph instead.\n",
            "\n",
            "WARNING:tensorflow:From /usr/local/lib/python3.6/dist-packages/keras/backend/tensorflow_backend.py:541: The name tf.placeholder is deprecated. Please use tf.compat.v1.placeholder instead.\n",
            "\n",
            "WARNING:tensorflow:From /usr/local/lib/python3.6/dist-packages/keras/backend/tensorflow_backend.py:4432: The name tf.random_uniform is deprecated. Please use tf.random.uniform instead.\n",
            "\n",
            "Model: \"sequential_1\"\n",
            "_________________________________________________________________\n",
            "Layer (type)                 Output Shape              Param #   \n",
            "=================================================================\n",
            "embedding_1 (Embedding)      (None, None, 32)          320000    \n",
            "_________________________________________________________________\n",
            "simple_rnn_1 (SimpleRNN)     (None, 32)                2080      \n",
            "=================================================================\n",
            "Total params: 322,080\n",
            "Trainable params: 322,080\n",
            "Non-trainable params: 0\n",
            "_________________________________________________________________\n"
          ],
          "name": "stdout"
        }
      ]
    },
    {
      "cell_type": "code",
      "metadata": {
        "id": "5XlraKLVolZB",
        "colab_type": "code",
        "outputId": "bf67ad56-abef-4b07-fde1-7178e79bee6e",
        "colab": {
          "base_uri": "https://localhost:8080/",
          "height": 221
        }
      },
      "source": [
        "# Sequência completa de outputs\n",
        "model = Sequential()\n",
        "model.add(Embedding(10000, 32))\n",
        "model.add(SimpleRNN(32, return_sequences=True))\n",
        "model.summary()"
      ],
      "execution_count": 0,
      "outputs": [
        {
          "output_type": "stream",
          "text": [
            "Model: \"sequential_2\"\n",
            "_________________________________________________________________\n",
            "Layer (type)                 Output Shape              Param #   \n",
            "=================================================================\n",
            "embedding_2 (Embedding)      (None, None, 32)          320000    \n",
            "_________________________________________________________________\n",
            "simple_rnn_2 (SimpleRNN)     (None, None, 32)          2080      \n",
            "=================================================================\n",
            "Total params: 322,080\n",
            "Trainable params: 322,080\n",
            "Non-trainable params: 0\n",
            "_________________________________________________________________\n"
          ],
          "name": "stdout"
        }
      ]
    },
    {
      "cell_type": "code",
      "metadata": {
        "id": "CshTzdbkp45n",
        "colab_type": "code",
        "outputId": "898b7299-307b-4728-ab95-5e76bfcf3b40",
        "colab": {
          "base_uri": "https://localhost:8080/",
          "height": 323
        }
      },
      "source": [
        "# Multiplas camadas e retorno de toda a sequência de outputs\n",
        "\n",
        "model = Sequential()\n",
        "model.add(Embedding(10000, 32))\n",
        "model.add(SimpleRNN(32, return_sequences=True))\n",
        "model.add(SimpleRNN(32, return_sequences=True))\n",
        "model.add(SimpleRNN(32, return_sequences=True))\n",
        "model.add(SimpleRNN(32))\n",
        "model.summary()"
      ],
      "execution_count": 0,
      "outputs": [
        {
          "output_type": "stream",
          "text": [
            "Model: \"sequential_3\"\n",
            "_________________________________________________________________\n",
            "Layer (type)                 Output Shape              Param #   \n",
            "=================================================================\n",
            "embedding_3 (Embedding)      (None, None, 32)          320000    \n",
            "_________________________________________________________________\n",
            "simple_rnn_3 (SimpleRNN)     (None, None, 32)          2080      \n",
            "_________________________________________________________________\n",
            "simple_rnn_4 (SimpleRNN)     (None, None, 32)          2080      \n",
            "_________________________________________________________________\n",
            "simple_rnn_5 (SimpleRNN)     (None, None, 32)          2080      \n",
            "_________________________________________________________________\n",
            "simple_rnn_6 (SimpleRNN)     (None, 32)                2080      \n",
            "=================================================================\n",
            "Total params: 328,320\n",
            "Trainable params: 328,320\n",
            "Non-trainable params: 0\n",
            "_________________________________________________________________\n"
          ],
          "name": "stdout"
        }
      ]
    },
    {
      "cell_type": "markdown",
      "metadata": {
        "id": "VK8XdTq-q_mS",
        "colab_type": "text"
      },
      "source": [
        "# Aplicação nos Reviews do IMDB\n",
        "\n",
        "### Preparo dos dados"
      ]
    },
    {
      "cell_type": "code",
      "metadata": {
        "id": "yfolGG-Eq_YS",
        "colab_type": "code",
        "outputId": "cbb674ef-2892-46f2-da54-d3c94b2588f6",
        "colab": {
          "base_uri": "https://localhost:8080/",
          "height": 153
        }
      },
      "source": [
        "from keras.datasets import imdb\n",
        "from keras.preprocessing import sequence\n",
        "\n",
        "\n",
        "max_features = 10000\n",
        "maxlen = 500\n",
        "batch_size = 32\n",
        "\n",
        "print('Loading data...')\n",
        "(input_train, y_train), (input_test, y_test) = imdb.load_data(num_words=max_features)\n",
        "print(len(input_train), 'train sequences')\n",
        "print(len(input_test), 'test sequences')\n",
        "\n",
        "print('Pad sequences (samples x time)')\n",
        "\n",
        "input_train = sequence.pad_sequences(input_train, maxlen=maxlen)\n",
        "input_test = sequence.pad_sequences(input_test, maxlen=maxlen)\n",
        "print('input_train shape:', input_train.shape)\n",
        "print('input_test shape:', input_test.shape)"
      ],
      "execution_count": 0,
      "outputs": [
        {
          "output_type": "stream",
          "text": [
            "Loading data...\n",
            "Downloading data from https://s3.amazonaws.com/text-datasets/imdb.npz\n",
            "17465344/17464789 [==============================] - 1s 0us/step\n",
            "25000 train sequences\n",
            "25000 test sequences\n",
            "Pad sequences (samples x time)\n",
            "input_train shape: (25000, 500)\n",
            "input_test shape: (25000, 500)\n"
          ],
          "name": "stdout"
        }
      ]
    },
    {
      "cell_type": "markdown",
      "metadata": {
        "id": "ZWotBjObrVb6",
        "colab_type": "text"
      },
      "source": [
        "### Treino dos Reviews com SimpleRNN"
      ]
    },
    {
      "cell_type": "code",
      "metadata": {
        "id": "Cg8pdeGMq3-o",
        "colab_type": "code",
        "outputId": "35f45fec-2f06-4af5-b367-93444ff642e5",
        "colab": {
          "base_uri": "https://localhost:8080/",
          "height": 785
        }
      },
      "source": [
        "from keras.layers import Dense\n",
        "\n",
        "model = Sequential()\n",
        "model.add(Embedding(max_features, 32))\n",
        "model.add(SimpleRNN(32))\n",
        "model.add(Dense(1, activation='sigmoid'))\n",
        "model.compile(optimizer='rmsprop', loss='binary_crossentropy', metrics=['acc'])\n",
        "\n",
        "\n",
        "history = model.fit(input_train, y_train, epochs=10, batch_size=128, validation_split=0.2)"
      ],
      "execution_count": 0,
      "outputs": [
        {
          "output_type": "stream",
          "text": [
            "WARNING:tensorflow:From /usr/local/lib/python3.6/dist-packages/keras/optimizers.py:793: The name tf.train.Optimizer is deprecated. Please use tf.compat.v1.train.Optimizer instead.\n",
            "\n",
            "WARNING:tensorflow:From /usr/local/lib/python3.6/dist-packages/keras/backend/tensorflow_backend.py:3657: The name tf.log is deprecated. Please use tf.math.log instead.\n",
            "\n",
            "WARNING:tensorflow:From /usr/local/lib/python3.6/dist-packages/tensorflow_core/python/ops/nn_impl.py:183: where (from tensorflow.python.ops.array_ops) is deprecated and will be removed in a future version.\n",
            "Instructions for updating:\n",
            "Use tf.where in 2.0, which has the same broadcast rule as np.where\n",
            "WARNING:tensorflow:From /usr/local/lib/python3.6/dist-packages/keras/backend/tensorflow_backend.py:1033: The name tf.assign_add is deprecated. Please use tf.compat.v1.assign_add instead.\n",
            "\n",
            "WARNING:tensorflow:From /usr/local/lib/python3.6/dist-packages/keras/backend/tensorflow_backend.py:1020: The name tf.assign is deprecated. Please use tf.compat.v1.assign instead.\n",
            "\n",
            "WARNING:tensorflow:From /usr/local/lib/python3.6/dist-packages/keras/backend/tensorflow_backend.py:3005: The name tf.Session is deprecated. Please use tf.compat.v1.Session instead.\n",
            "\n",
            "Train on 20000 samples, validate on 5000 samples\n",
            "Epoch 1/10\n",
            "WARNING:tensorflow:From /usr/local/lib/python3.6/dist-packages/keras/backend/tensorflow_backend.py:190: The name tf.get_default_session is deprecated. Please use tf.compat.v1.get_default_session instead.\n",
            "\n",
            "WARNING:tensorflow:From /usr/local/lib/python3.6/dist-packages/keras/backend/tensorflow_backend.py:197: The name tf.ConfigProto is deprecated. Please use tf.compat.v1.ConfigProto instead.\n",
            "\n",
            "WARNING:tensorflow:From /usr/local/lib/python3.6/dist-packages/keras/backend/tensorflow_backend.py:207: The name tf.global_variables is deprecated. Please use tf.compat.v1.global_variables instead.\n",
            "\n",
            "WARNING:tensorflow:From /usr/local/lib/python3.6/dist-packages/keras/backend/tensorflow_backend.py:216: The name tf.is_variable_initialized is deprecated. Please use tf.compat.v1.is_variable_initialized instead.\n",
            "\n",
            "WARNING:tensorflow:From /usr/local/lib/python3.6/dist-packages/keras/backend/tensorflow_backend.py:223: The name tf.variables_initializer is deprecated. Please use tf.compat.v1.variables_initializer instead.\n",
            "\n",
            "20000/20000 [==============================] - 21s 1ms/step - loss: 0.6283 - acc: 0.6367 - val_loss: 0.5579 - val_acc: 0.7020\n",
            "Epoch 2/10\n",
            "20000/20000 [==============================] - 20s 980us/step - loss: 0.3867 - acc: 0.8371 - val_loss: 0.4700 - val_acc: 0.7926\n",
            "Epoch 3/10\n",
            "20000/20000 [==============================] - 20s 984us/step - loss: 0.2837 - acc: 0.8898 - val_loss: 0.4403 - val_acc: 0.8266\n",
            "Epoch 4/10\n",
            "20000/20000 [==============================] - 20s 984us/step - loss: 0.2350 - acc: 0.9130 - val_loss: 0.6915 - val_acc: 0.7412\n",
            "Epoch 5/10\n",
            "20000/20000 [==============================] - 19s 973us/step - loss: 0.1607 - acc: 0.9428 - val_loss: 0.3769 - val_acc: 0.8408\n",
            "Epoch 6/10\n",
            "20000/20000 [==============================] - 20s 991us/step - loss: 0.1079 - acc: 0.9621 - val_loss: 0.4932 - val_acc: 0.7892\n",
            "Epoch 7/10\n",
            "20000/20000 [==============================] - 20s 993us/step - loss: 0.0706 - acc: 0.9787 - val_loss: 0.4498 - val_acc: 0.8658\n",
            "Epoch 8/10\n",
            "20000/20000 [==============================] - 20s 995us/step - loss: 0.0458 - acc: 0.9861 - val_loss: 0.4708 - val_acc: 0.8486\n",
            "Epoch 9/10\n",
            "20000/20000 [==============================] - 20s 997us/step - loss: 0.0313 - acc: 0.9906 - val_loss: 0.4962 - val_acc: 0.8486\n",
            "Epoch 10/10\n",
            "20000/20000 [==============================] - 20s 984us/step - loss: 0.0213 - acc: 0.9941 - val_loss: 0.5873 - val_acc: 0.8410\n"
          ],
          "name": "stdout"
        }
      ]
    },
    {
      "cell_type": "code",
      "metadata": {
        "id": "tVLGk1aQrfAU",
        "colab_type": "code",
        "outputId": "ede7e5c9-904c-4918-a6c7-4643e0c5b184",
        "colab": {
          "base_uri": "https://localhost:8080/",
          "height": 545
        }
      },
      "source": [
        "import matplotlib.pyplot as plt\n",
        "\n",
        "acc = history.history['acc']\n",
        "val_acc = history.history['val_acc']\n",
        "loss = history.history['loss']\n",
        "val_loss = history.history['val_loss']\n",
        "\n",
        "epochs = range(1, len(acc) + 1)\n",
        "\n",
        "\n",
        "plt.plot(epochs, acc, 'bo', label='Training acc')\n",
        "plt.plot(epochs, val_acc, 'b', label='Validation acc')\n",
        "plt.title('Training and validation accuracy')\n",
        "plt.legend()\n",
        "plt.figure()\n",
        "\n",
        "plt.plot(epochs, loss, 'bo', label='Training loss')\n",
        "plt.plot(epochs, val_loss, 'b', label='Validation loss')\n",
        "plt.title('Training and validation loss')\n",
        "plt.legend()\n",
        "plt.show()"
      ],
      "execution_count": 0,
      "outputs": [
        {
          "output_type": "display_data",
          "data": {
            "image/png": "[encoded data removed]",
            "text/plain": [
              "<Figure size 432x288 with 1 Axes>"
            ]
          },
          "metadata": {
            "tags": []
          }
        },
        {
          "output_type": "display_data",
          "data": {
            "image/png": "[encoded data removed]",
            "text/plain": [
              "<Figure size 432x288 with 1 Axes>"
            ]
          },
          "metadata": {
            "tags": []
          }
        }
      ]
    },
    {
      "cell_type": "markdown",
      "metadata": {
        "id": "WkLY_Df3cpkw",
        "colab_type": "text"
      },
      "source": [
        "## LSTM e GRU Layers\n",
        "\n",
        "Além da SimpleRNN, o Keras ainda apresenta outras duas possibilidades de camada de recorrência: LSTM e GRU, que foram projetadas para evitar o 'esquecimento' das sequências anteriores no treinamento de redes em sequências de texto. Focaremos apenas na LSTM.\n",
        "\n",
        "-------\n",
        "## LSTM (Long Short-Term Memory, *memória de longo prazo*)\n",
        "\n",
        "Soluciona o problema de *vanising gradient problem*, que é responsável por 'esquecer' as sequências prévias, transportando informações por vários timesteps.\n",
        "![alt text](https://dpzbhybb2pdcj.cloudfront.net/chollet/Figures/06fig14_alt.jpg)\n",
        "\n",
        "### Exemplo no Keras, com o IMBD\n",
        "\n"
      ]
    },
    {
      "cell_type": "code",
      "metadata": {
        "id": "vvle1tmWrxPR",
        "colab_type": "code",
        "outputId": "cc7f1d35-ebe8-4283-9007-f5d67180f63c",
        "colab": {
          "base_uri": "https://localhost:8080/",
          "height": 374
        }
      },
      "source": [
        "# importantdo a camada\n",
        "from keras.layers import LSTM\n",
        "\n",
        "#Criando as camadas\n",
        "model = Sequential()\n",
        "model.add(Embedding(max_features, 32))\n",
        "model.add(LSTM(32))\n",
        "model.add(Dense(1, activation='sigmoid'))\n",
        "\n",
        "#definindo os parâmetros de treino\n",
        "model.compile(optimizer='rmsprop',\n",
        "loss='binary_crossentropy',\n",
        "metrics=['acc'])\n",
        "\n",
        "#Treinando o modelo\n",
        "history = model.fit(input_train, y_train,\n",
        "epochs=10,\n",
        "batch_size=128,\n",
        "validation_split=0.2)"
      ],
      "execution_count": 0,
      "outputs": [
        {
          "output_type": "stream",
          "text": [
            "Train on 20000 samples, validate on 5000 samples\n",
            "Epoch 1/10\n",
            "20000/20000 [==============================] - 99s 5ms/step - loss: 0.5049 - acc: 0.7541 - val_loss: 0.4231 - val_acc: 0.8002\n",
            "Epoch 2/10\n",
            "20000/20000 [==============================] - 91s 5ms/step - loss: 0.2905 - acc: 0.8855 - val_loss: 0.2784 - val_acc: 0.8876\n",
            "Epoch 3/10\n",
            "20000/20000 [==============================] - 89s 4ms/step - loss: 0.2338 - acc: 0.9113 - val_loss: 0.2827 - val_acc: 0.8824\n",
            "Epoch 4/10\n",
            "20000/20000 [==============================] - 95s 5ms/step - loss: 0.1992 - acc: 0.9263 - val_loss: 0.3349 - val_acc: 0.8848\n",
            "Epoch 5/10\n",
            "20000/20000 [==============================] - 101s 5ms/step - loss: 0.1763 - acc: 0.9362 - val_loss: 0.3173 - val_acc: 0.8930\n",
            "Epoch 6/10\n",
            "20000/20000 [==============================] - 94s 5ms/step - loss: 0.1561 - acc: 0.9440 - val_loss: 0.4019 - val_acc: 0.8596\n",
            "Epoch 7/10\n",
            "20000/20000 [==============================] - 89s 4ms/step - loss: 0.1441 - acc: 0.9493 - val_loss: 0.3599 - val_acc: 0.8444\n",
            "Epoch 8/10\n",
            "20000/20000 [==============================] - 89s 4ms/step - loss: 0.1314 - acc: 0.9531 - val_loss: 0.3863 - val_acc: 0.8802\n",
            "Epoch 9/10\n",
            "20000/20000 [==============================] - 89s 4ms/step - loss: 0.1188 - acc: 0.9586 - val_loss: 0.4596 - val_acc: 0.8384\n",
            "Epoch 10/10\n",
            "20000/20000 [==============================] - 89s 4ms/step - loss: 0.1118 - acc: 0.9604 - val_loss: 0.4113 - val_acc: 0.8786\n"
          ],
          "name": "stdout"
        }
      ]
    },
    {
      "cell_type": "markdown",
      "metadata": {
        "id": "OCxgpGqgkkwc",
        "colab_type": "text"
      },
      "source": [
        "- Acurácia com SimpleRNN: 0.84\n",
        "- Acurácia com LSTM: 0.87\n",
        "\n",
        "> Leve melhora devido ao 'não esquecimento' (*vanishing-gradient problem*). Poderia ter melhores resultados se:\n",
        "\n",
        "- feito o ajuste de hyperparâmetros \n",
        "- regularização \n",
        "\n",
        "Entretanto, LSTM não é tão efetivo em **análise de sentimento** quanto é em problemas mais complexos, como por exemplo a análise de **traduções**.\n",
        "\n",
        "\n",
        "--------------\n",
        "--------------\n",
        "## Recapitulando...\n",
        "-  RNNs: redes neurais recorrentes que são treinadas considerando a sequência como um todo. Exemplo: SimpleRNN.\n",
        "-  LSTM: uma RNN que diminuiu a questão do *vanishing-gradient problem*, uma espécie de esquecimento em sequências muito longas e que é muito melhor que uma SimpleRNN"
      ]
    }
  ]
}