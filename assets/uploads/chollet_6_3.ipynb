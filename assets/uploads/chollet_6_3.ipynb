{
  "nbformat": 4,
  "nbformat_minor": 0,
  "metadata": {
    "colab": {
      "name": "Chollet_6_3.ipynb",
      "provenance": []
    },
    "kernelspec": {
      "name": "python3",
      "display_name": "Python 3"
    }
  },
  "cells": [
    {
      "cell_type": "markdown",
      "metadata": {
        "id": "9Sa2nImHsdNM",
        "colab_type": "text"
      },
      "source": [
        "# Uso Avançado de RNN\n",
        "\n",
        "> **3 Técnicas** para melhorar o desempenho e o poder de generalização das RNN:\n",
        "\n",
        "- *Recurrent dropout*: para cobater overfitting\n",
        "- *Stacking recurrent layers*: para aumentar o poder representacional da rede\n",
        "- *Bidirectional recurrent layers*: apresentar a mesma informação para redes diferentes, aumentando a acurácia e mitigando problemas.\n",
        "\n",
        "## Case: Previsão de temperatura\n",
        "Diferente dos casos anteriores, em que analisamos sequência de texto, iremos trabalhar agora com séries temporais, outra aplicação de deep learning para sequências.\n",
        "\n",
        "\n",
        "\n"
      ]
    },
    {
      "cell_type": "code",
      "metadata": {
        "id": "Agd69C9Esa0U",
        "colab_type": "code",
        "outputId": "72787a80-5543-4e64-88a1-92fa95dca45d",
        "colab": {
          "base_uri": "https://localhost:8080/",
          "height": 34
        }
      },
      "source": [
        "from google.colab import drive\n",
        "drive.mount('/content/drive')"
      ],
      "execution_count": 0,
      "outputs": [
        {
          "output_type": "stream",
          "text": [
            "Drive already mounted at /content/drive; to attempt to forcibly remount, call drive.mount(\"/content/drive\", force_remount=True).\n"
          ],
          "name": "stdout"
        }
      ]
    },
    {
      "cell_type": "code",
      "metadata": {
        "id": "nnLFRP-d0Iu_",
        "colab_type": "code",
        "colab": {}
      },
      "source": [
        "import os\n",
        "data_dir = '/content/drive/My Drive/Deep_Learning/'\n",
        "fname = os.path.join(data_dir, 'jena_climate_2009_2016.csv')"
      ],
      "execution_count": 0,
      "outputs": []
    },
    {
      "cell_type": "code",
      "metadata": {
        "id": "aIRCx-WD0iCf",
        "colab_type": "code",
        "outputId": "8d2f9f20-db91-471f-b6e8-b1a99541bafa",
        "colab": {
          "base_uri": "https://localhost:8080/",
          "height": 71
        }
      },
      "source": [
        "# Abrindo o arquivo\n",
        "f = open(fname)\n",
        "data = f.read()\n",
        "f.close()\n",
        "\n",
        "lines = data.split('\\n')\n",
        "header = lines[0].split(',')\n",
        "lines = lines[1:]\n",
        "\n",
        "print(header)\n",
        "print(len(lines))"
      ],
      "execution_count": 0,
      "outputs": [
        {
          "output_type": "stream",
          "text": [
            "['\"Date Time\"', '\"p (mbar)\"', '\"T (degC)\"', '\"Tpot (K)\"', '\"Tdew (degC)\"', '\"rh (%)\"', '\"VPmax (mbar)\"', '\"VPact (mbar)\"', '\"VPdef (mbar)\"', '\"sh (g/kg)\"', '\"H2OC (mmol/mol)\"', '\"rho (g/m**3)\"', '\"wv (m/s)\"', '\"max. wv (m/s)\"', '\"wd (deg)\"']\n",
            "420551\n"
          ],
          "name": "stdout"
        }
      ]
    },
    {
      "cell_type": "markdown",
      "metadata": {
        "id": "7Qg3_lLP2B4j",
        "colab_type": "text"
      },
      "source": [
        "Precisamos converter o arquivo em um array do Numpy"
      ]
    },
    {
      "cell_type": "code",
      "metadata": {
        "id": "w93lB3S61H0z",
        "colab_type": "code",
        "colab": {}
      },
      "source": [
        "import numpy as np\n",
        "\n",
        "#criando uma matriz de zeros\n",
        "float_data = np.zeros((len(lines), len(header) - 1))\n",
        "\n",
        "#preenchendo com os dados do dataset\n",
        "for i, line in enumerate(lines):\n",
        "    values = [float(x) for x in line.split(',')[1:]]\n",
        "    float_data[i, :] = values"
      ],
      "execution_count": 0,
      "outputs": []
    },
    {
      "cell_type": "markdown",
      "metadata": {
        "id": "pMrXqsDY2Yjq",
        "colab_type": "text"
      },
      "source": [
        "Plotando a temperatura ao longo do tempo (*timeseries*)"
      ]
    },
    {
      "cell_type": "code",
      "metadata": {
        "id": "ADziohSy2QNk",
        "colab_type": "code",
        "outputId": "8164a4f8-b526-44b9-a989-8092bcae2105",
        "colab": {
          "base_uri": "https://localhost:8080/",
          "height": 285
        }
      },
      "source": [
        "from matplotlib import pyplot as plt\n",
        "\n",
        "temp = float_data[:, 1]\n",
        "plt.plot(range(len(temp)), temp)"
      ],
      "execution_count": 0,
      "outputs": [
        {
          "output_type": "execute_result",
          "data": {
            "text/plain": [
              "[<matplotlib.lines.Line2D at 0x7ff0068ebac8>]"
            ]
          },
          "metadata": {
            "tags": []
          },
          "execution_count": 5
        },
        {
          "output_type": "display_data",
          "data": {
            "image/png": "[encoded data removed]",
            "text/plain": [
              "<Figure size 432x288 with 1 Axes>"
            ]
          },
          "metadata": {
            "tags": []
          }
        }
      ]
    },
    {
      "cell_type": "markdown",
      "metadata": {
        "id": "tfVweU_C2pKT",
        "colab_type": "text"
      },
      "source": [
        "Visualizando apenas os 10 primeiros dias:"
      ]
    },
    {
      "cell_type": "code",
      "metadata": {
        "id": "-jhCLgUb2ddC",
        "colab_type": "code",
        "outputId": "912fd0b1-e203-43cf-c356-4fed8b20d487",
        "colab": {
          "base_uri": "https://localhost:8080/",
          "height": 282
        }
      },
      "source": [
        "plt.plot(range(1440), temp[:1440])"
      ],
      "execution_count": 0,
      "outputs": [
        {
          "output_type": "execute_result",
          "data": {
            "text/plain": [
              "[<matplotlib.lines.Line2D at 0x7ff006441470>]"
            ]
          },
          "metadata": {
            "tags": []
          },
          "execution_count": 6
        },
        {
          "output_type": "display_data",
          "data": {
            "image/png": "[encoded data removed]",
            "text/plain": [
              "<Figure size 432x288 with 1 Axes>"
            ]
          },
          "metadata": {
            "tags": []
          }
        }
      ]
    },
    {
      "cell_type": "markdown",
      "metadata": {
        "id": "AL5FrEsGswbE",
        "colab_type": "text"
      },
      "source": [
        "- As temperaturas possuem boa periodicidade quando olhamos anualmente.\n",
        "- Entretanto, a coisa fica mais caótica quando olhamos diariamente, sendo mais complexo prever a temperatura de um dia do que de um mês.\n",
        "\n",
        "### Preparação dos dados\n",
        "> Settings:\n",
        "1. lookback = 720—Observations will go back 5 days.\n",
        "2. steps = 6—Observations will be sampled at one data point per hour.\n",
        "3. delay = 144—Targets will be 24 hours in the future.\n",
        "\n",
        "Precisamos:\n",
        "- normalizar os dados: $\\frac{x-\\bar{x}}{\\sigma_x}$\n",
        "- fazer batches dos dados"
      ]
    },
    {
      "cell_type": "code",
      "metadata": {
        "id": "MBu1S26A2kmm",
        "colab_type": "code",
        "colab": {}
      },
      "source": [
        "# Preparando os dados\n",
        "# usando apenas os 200000 primeiros dados para a média e o desvio padrão\n",
        "\n",
        "mean = float_data[:200000].mean(axis=0)\n",
        "float_data -= mean\n",
        "\n",
        "std = float_data[:200000].std(axis=0)\n",
        "float_data /= std"
      ],
      "execution_count": 0,
      "outputs": []
    },
    {
      "cell_type": "markdown",
      "metadata": {
        "id": "FSHJz-ypwCmc",
        "colab_type": "text"
      },
      "source": [
        "Precisamos fazer uma *feature engineering* e obter as seguintes variáveis:\n",
        "\n",
        "- **data** —The original array of floating-point data, which you normalized in listing 6.32.\n",
        "- **lookback** —How many timesteps back the input data should go.\n",
        "- **delay** —How many timesteps in the future the target should be.\n",
        "- **min_index** and **max_index** —Indices in the data array that delimit which timesteps\n",
        "to draw from. This is useful for keeping a segment of the data for validation\n",
        "and another for testing.\n",
        "- **shuffle** —Whether to shuffle the samples or draw them in chronological order.\n",
        "- **batch_size** —The number of samples per batch.\n",
        "- **step** —The period, in timesteps, at which you sample data. You’ll set it to 6 in\n",
        "order to draw one data point every hour."
      ]
    },
    {
      "cell_type": "code",
      "metadata": {
        "id": "HP_wK7VbvICS",
        "colab_type": "code",
        "colab": {}
      },
      "source": [
        "def generator(data, lookback, delay, min_index, max_index,\n",
        "              shuffle=False, batch_size=128, step=6):\n",
        "    if max_index is None:\n",
        "        max_index = len(data) - delay - 1\n",
        "    i = min_index + lookback\n",
        "    while 1:\n",
        "        if shuffle:\n",
        "            rows = np.random.randint(\n",
        "                min_index + lookback, max_index, size=batch_size)\n",
        "        else:\n",
        "            if i + batch_size >= max_index:\n",
        "                i = min_index + lookback\n",
        "            rows = np.arange(i, min(i + batch_size, max_index))\n",
        "            i += len(rows)\n",
        "\n",
        "        samples = np.zeros((len(rows),\n",
        "                           lookback // step,\n",
        "                           data.shape[-1]))\n",
        "        targets = np.zeros((len(rows),))\n",
        "        for j, row in enumerate(rows):\n",
        "            indices = range(rows[j] - lookback, rows[j], step)\n",
        "            samples[j] = data[indices]\n",
        "            targets[j] = data[rows[j] + delay][1]\n",
        "        yield samples, targets"
      ],
      "execution_count": 0,
      "outputs": []
    },
    {
      "cell_type": "markdown",
      "metadata": {
        "id": "zx68DERjxJX1",
        "colab_type": "text"
      },
      "source": [
        "Com a função *generator* iremos selecionar as amostras de treino, validação e teste. As seleções de validação e teste serão *out of time*, ou seja, em períodos posteriores."
      ]
    },
    {
      "cell_type": "code",
      "metadata": {
        "id": "b3mLfR63wyey",
        "colab_type": "code",
        "colab": {}
      },
      "source": [
        "#setting das constantes\n",
        "lookback = 1440\n",
        "step = 6\n",
        "delay = 144\n",
        "batch_size = 128\n",
        "\n",
        "train_gen = generator(float_data,\n",
        "                      lookback=lookback,\n",
        "                      delay=delay,\n",
        "                      min_index=0,\n",
        "                      max_index=200000,\n",
        "                      shuffle=True,\n",
        "                      step=step, \n",
        "                      batch_size=batch_size)\n",
        "val_gen = generator(float_data,\n",
        "                    lookback=lookback,\n",
        "                    delay=delay,\n",
        "                    min_index=200001,\n",
        "                    max_index=300000,\n",
        "                    step=step,\n",
        "                    batch_size=batch_size)\n",
        "test_gen = generator(float_data,\n",
        "                     lookback=lookback,\n",
        "                     delay=delay,\n",
        "                     min_index=300001,\n",
        "                     max_index=None,\n",
        "                     step=step,\n",
        "                     batch_size=batch_size)\n",
        "\n",
        "# Garantindo que a amostra de validação seja feita no batch subsequente à amostra de treino\n",
        "val_steps = (300000 - 200001 - lookback) // batch_size\n",
        "\n",
        "# Garantindo que a amostra de teste seja feita no batch subsequente à amostra de validação\n",
        "test_steps = (len(float_data) - 300001 - lookback) // batch_size"
      ],
      "execution_count": 0,
      "outputs": []
    },
    {
      "cell_type": "markdown",
      "metadata": {
        "id": "1CW0uCL6yqh1",
        "colab_type": "text"
      },
      "source": [
        "### Baseline e Sanity Check\n",
        "É sempre importante termos uma baseline para compararmos os resultados e fazermos um *sanity check*.\n",
        "\n",
        "No caso da previsão de tempo, podemos assumir que:\n",
        "- as temperaturas são contínuas.\n",
        "- a temperatura em 24h será a mesma que agora.\n",
        "\n",
        "Para avaliar esse baseline, usamos o erro absoluto médio (MAE)."
      ]
    },
    {
      "cell_type": "code",
      "metadata": {
        "id": "dgXcviDszo8_",
        "colab_type": "code",
        "outputId": "fa6261be-a72b-4c09-f509-415fec24b797",
        "colab": {
          "base_uri": "https://localhost:8080/",
          "height": 34
        }
      },
      "source": [
        "def evaluate_naive_method():\n",
        "    batch_maes = []\n",
        "    for step in range(val_steps):\n",
        "        samples, targets = next(val_gen)\n",
        "        preds = samples[:, -1, 1]\n",
        "        mae = np.mean(np.abs(preds - targets))\n",
        "        batch_maes.append(mae)\n",
        "    print(np.mean(batch_maes))\n",
        "    \n",
        "evaluate_naive_method()"
      ],
      "execution_count": 0,
      "outputs": [
        {
          "output_type": "stream",
          "text": [
            "0.2897359729905486\n"
          ],
          "name": "stdout"
        }
      ]
    },
    {
      "cell_type": "markdown",
      "metadata": {
        "id": "QRd_4y1i0FoU",
        "colab_type": "text"
      },
      "source": [
        "> Considerando que fizemos a normalização dos dados, temos:\n",
        "$0.29 \\times \\sigma_{Temperature} = 2.57^o C$\n",
        "\n",
        "Temos que fazer uma previsão cujo MAE seja menor!"
      ]
    },
    {
      "cell_type": "code",
      "metadata": {
        "id": "2X2lhUcqz2Up",
        "colab_type": "code",
        "outputId": "337b9a2d-b79a-4e22-fda9-b6732a74d389",
        "colab": {
          "base_uri": "https://localhost:8080/",
          "height": 1000
        }
      },
      "source": [
        "from keras.models import Sequential\n",
        "from keras import layers\n",
        "from keras.optimizers import RMSprop\n",
        "\n",
        "model = Sequential()\n",
        "model.add(layers.Flatten(input_shape=(lookback // step, float_data.shape[-1])))\n",
        "model.add(layers.Dense(32, activation='relu'))\n",
        "model.add(layers.Dense(1))\n",
        "\n",
        "model.compile(optimizer=RMSprop(), loss='mae')\n",
        "history = model.fit_generator(train_gen,\n",
        "                              steps_per_epoch=500,\n",
        "                              epochs=20,\n",
        "                              validation_data=val_gen,\n",
        "                              validation_steps=val_steps)"
      ],
      "execution_count": 0,
      "outputs": [
        {
          "output_type": "stream",
          "text": [
            "Using TensorFlow backend.\n"
          ],
          "name": "stderr"
        },
        {
          "output_type": "display_data",
          "data": {
            "text/html": [
              "<p style=\"color: red;\">\n",
              "The default version of TensorFlow in Colab will soon switch to TensorFlow 2.x.<br>\n",
              "We recommend you <a href=\"https://www.tensorflow.org/guide/migrate\" target=\"_blank\">upgrade</a> now \n",
              "or ensure your notebook will continue to use TensorFlow 1.x via the <code>%tensorflow_version 1.x</code> magic:\n",
              "<a href=\"https://colab.research.google.com/notebooks/tensorflow_version.ipynb\" target=\"_blank\">more info</a>.</p>\n"
            ],
            "text/plain": [
              "<IPython.core.display.HTML object>"
            ]
          },
          "metadata": {
            "tags": []
          }
        },
        {
          "output_type": "stream",
          "text": [
            "WARNING:tensorflow:From /usr/local/lib/python3.6/dist-packages/keras/backend/tensorflow_backend.py:66: The name tf.get_default_graph is deprecated. Please use tf.compat.v1.get_default_graph instead.\n",
            "\n",
            "WARNING:tensorflow:From /usr/local/lib/python3.6/dist-packages/keras/backend/tensorflow_backend.py:541: The name tf.placeholder is deprecated. Please use tf.compat.v1.placeholder instead.\n",
            "\n",
            "WARNING:tensorflow:From /usr/local/lib/python3.6/dist-packages/keras/backend/tensorflow_backend.py:4432: The name tf.random_uniform is deprecated. Please use tf.random.uniform instead.\n",
            "\n",
            "WARNING:tensorflow:From /usr/local/lib/python3.6/dist-packages/keras/optimizers.py:793: The name tf.train.Optimizer is deprecated. Please use tf.compat.v1.train.Optimizer instead.\n",
            "\n",
            "WARNING:tensorflow:From /usr/local/lib/python3.6/dist-packages/keras/backend/tensorflow_backend.py:1033: The name tf.assign_add is deprecated. Please use tf.compat.v1.assign_add instead.\n",
            "\n",
            "WARNING:tensorflow:From /usr/local/lib/python3.6/dist-packages/keras/backend/tensorflow_backend.py:1020: The name tf.assign is deprecated. Please use tf.compat.v1.assign instead.\n",
            "\n",
            "WARNING:tensorflow:From /usr/local/lib/python3.6/dist-packages/keras/backend/tensorflow_backend.py:3005: The name tf.Session is deprecated. Please use tf.compat.v1.Session instead.\n",
            "\n",
            "Epoch 1/20\n",
            "WARNING:tensorflow:From /usr/local/lib/python3.6/dist-packages/keras/backend/tensorflow_backend.py:190: The name tf.get_default_session is deprecated. Please use tf.compat.v1.get_default_session instead.\n",
            "\n",
            "WARNING:tensorflow:From /usr/local/lib/python3.6/dist-packages/keras/backend/tensorflow_backend.py:197: The name tf.ConfigProto is deprecated. Please use tf.compat.v1.ConfigProto instead.\n",
            "\n",
            "WARNING:tensorflow:From /usr/local/lib/python3.6/dist-packages/keras/backend/tensorflow_backend.py:207: The name tf.global_variables is deprecated. Please use tf.compat.v1.global_variables instead.\n",
            "\n",
            "WARNING:tensorflow:From /usr/local/lib/python3.6/dist-packages/keras/backend/tensorflow_backend.py:216: The name tf.is_variable_initialized is deprecated. Please use tf.compat.v1.is_variable_initialized instead.\n",
            "\n",
            "WARNING:tensorflow:From /usr/local/lib/python3.6/dist-packages/keras/backend/tensorflow_backend.py:223: The name tf.variables_initializer is deprecated. Please use tf.compat.v1.variables_initializer instead.\n",
            "\n",
            "500/500 [==============================] - 13s 26ms/step - loss: 1.6248 - val_loss: 1.7177\n",
            "Epoch 2/20\n",
            "500/500 [==============================] - 13s 25ms/step - loss: 2.5672 - val_loss: 5.1858\n",
            "Epoch 3/20\n",
            "500/500 [==============================] - 13s 25ms/step - loss: 5.5524 - val_loss: 8.4540\n",
            "Epoch 4/20\n",
            "500/500 [==============================] - 13s 26ms/step - loss: 9.3855 - val_loss: 10.1728\n",
            "Epoch 5/20\n",
            "500/500 [==============================] - 13s 25ms/step - loss: 14.1595 - val_loss: 16.8647\n",
            "Epoch 6/20\n",
            "500/500 [==============================] - 13s 25ms/step - loss: 18.9023 - val_loss: 24.4707\n",
            "Epoch 7/20\n",
            "500/500 [==============================] - 13s 26ms/step - loss: 23.9287 - val_loss: 30.2016\n",
            "Epoch 8/20\n",
            "500/500 [==============================] - 13s 25ms/step - loss: 28.8016 - val_loss: 29.5478\n",
            "Epoch 9/20\n",
            "500/500 [==============================] - 13s 26ms/step - loss: 33.7740 - val_loss: 55.5294\n",
            "Epoch 10/20\n",
            "500/500 [==============================] - 13s 26ms/step - loss: 38.7159 - val_loss: 33.9984\n",
            "Epoch 11/20\n",
            "500/500 [==============================] - 13s 25ms/step - loss: 43.7163 - val_loss: 20.2754\n",
            "Epoch 12/20\n",
            "500/500 [==============================] - 13s 25ms/step - loss: 48.4836 - val_loss: 57.2961\n",
            "Epoch 13/20\n",
            "500/500 [==============================] - 13s 25ms/step - loss: 53.3893 - val_loss: 45.2789\n",
            "Epoch 14/20\n",
            "500/500 [==============================] - 13s 26ms/step - loss: 58.5179 - val_loss: 19.6612\n",
            "Epoch 15/20\n",
            "500/500 [==============================] - 13s 25ms/step - loss: 63.3970 - val_loss: 66.5079\n",
            "Epoch 16/20\n",
            "500/500 [==============================] - 13s 25ms/step - loss: 68.5922 - val_loss: 92.6845\n",
            "Epoch 17/20\n",
            "500/500 [==============================] - 13s 25ms/step - loss: 73.1853 - val_loss: 83.0099\n",
            "Epoch 18/20\n",
            "500/500 [==============================] - 13s 26ms/step - loss: 78.0382 - val_loss: 101.5267\n",
            "Epoch 19/20\n",
            "500/500 [==============================] - 13s 26ms/step - loss: 82.7113 - val_loss: 132.5263\n",
            "Epoch 20/20\n",
            "500/500 [==============================] - 13s 25ms/step - loss: 88.3620 - val_loss: 68.7708\n"
          ],
          "name": "stdout"
        }
      ]
    },
    {
      "cell_type": "code",
      "metadata": {
        "id": "9RmZo4mzqMKw",
        "colab_type": "code",
        "outputId": "b2a0c8be-e2f2-4d8a-a8eb-280ed2d6d40c",
        "colab": {
          "base_uri": "https://localhost:8080/",
          "height": 282
        }
      },
      "source": [
        "evaluate_naive_method()"
      ],
      "execution_count": 0,
      "outputs": [
        {
          "output_type": "error",
          "ename": "ValueError",
          "evalue": "ignored",
          "traceback": [
            "\u001b[0;31m---------------------------------------------------------------------------\u001b[0m",
            "\u001b[0;31mValueError\u001b[0m                                Traceback (most recent call last)",
            "\u001b[0;32m<ipython-input-12-043d54e5430b>\u001b[0m in \u001b[0;36m<module>\u001b[0;34m()\u001b[0m\n\u001b[0;32m----> 1\u001b[0;31m \u001b[0mevaluate_naive_method\u001b[0m\u001b[0;34m(\u001b[0m\u001b[0;34m)\u001b[0m\u001b[0;34m\u001b[0m\u001b[0;34m\u001b[0m\u001b[0m\n\u001b[0m",
            "\u001b[0;32m<ipython-input-10-1bb1d5605744>\u001b[0m in \u001b[0;36mevaluate_naive_method\u001b[0;34m()\u001b[0m\n\u001b[1;32m      2\u001b[0m     \u001b[0mbatch_maes\u001b[0m \u001b[0;34m=\u001b[0m \u001b[0;34m[\u001b[0m\u001b[0;34m]\u001b[0m\u001b[0;34m\u001b[0m\u001b[0;34m\u001b[0m\u001b[0m\n\u001b[1;32m      3\u001b[0m     \u001b[0;32mfor\u001b[0m \u001b[0mstep\u001b[0m \u001b[0;32min\u001b[0m \u001b[0mrange\u001b[0m\u001b[0;34m(\u001b[0m\u001b[0mval_steps\u001b[0m\u001b[0;34m)\u001b[0m\u001b[0;34m:\u001b[0m\u001b[0;34m\u001b[0m\u001b[0;34m\u001b[0m\u001b[0m\n\u001b[0;32m----> 4\u001b[0;31m         \u001b[0msamples\u001b[0m\u001b[0;34m,\u001b[0m \u001b[0mtargets\u001b[0m \u001b[0;34m=\u001b[0m \u001b[0mnext\u001b[0m\u001b[0;34m(\u001b[0m\u001b[0mval_gen\u001b[0m\u001b[0;34m)\u001b[0m\u001b[0;34m\u001b[0m\u001b[0;34m\u001b[0m\u001b[0m\n\u001b[0m\u001b[1;32m      5\u001b[0m         \u001b[0mpreds\u001b[0m \u001b[0;34m=\u001b[0m \u001b[0msamples\u001b[0m\u001b[0;34m[\u001b[0m\u001b[0;34m:\u001b[0m\u001b[0;34m,\u001b[0m \u001b[0;34m-\u001b[0m\u001b[0;36m1\u001b[0m\u001b[0;34m,\u001b[0m \u001b[0;36m1\u001b[0m\u001b[0;34m]\u001b[0m\u001b[0;34m\u001b[0m\u001b[0;34m\u001b[0m\u001b[0m\n\u001b[1;32m      6\u001b[0m         \u001b[0mmae\u001b[0m \u001b[0;34m=\u001b[0m \u001b[0mnp\u001b[0m\u001b[0;34m.\u001b[0m\u001b[0mmean\u001b[0m\u001b[0;34m(\u001b[0m\u001b[0mnp\u001b[0m\u001b[0;34m.\u001b[0m\u001b[0mabs\u001b[0m\u001b[0;34m(\u001b[0m\u001b[0mpreds\u001b[0m \u001b[0;34m-\u001b[0m \u001b[0mtargets\u001b[0m\u001b[0;34m)\u001b[0m\u001b[0;34m)\u001b[0m\u001b[0;34m\u001b[0m\u001b[0;34m\u001b[0m\u001b[0m\n",
            "\u001b[0;31mValueError\u001b[0m: generator already executing"
          ]
        }
      ]
    },
    {
      "cell_type": "code",
      "metadata": {
        "id": "-2PcWRyGUWXB",
        "colab_type": "code",
        "outputId": "b695931d-dca1-4b50-a988-0ab578eb5b54",
        "colab": {
          "base_uri": "https://localhost:8080/",
          "height": 281
        }
      },
      "source": [
        "# Visualização dos resultados\n",
        "import matplotlib.pyplot as plt\n",
        "\n",
        "loss = history.history['loss']\n",
        "val_loss = history.history['val_loss']\n",
        "\n",
        "epochs = range(len(loss))\n",
        "\n",
        "plt.figure()\n",
        "\n",
        "plt.plot(epochs, loss, 'bo', label='Training loss')\n",
        "plt.plot(epochs, val_loss, 'b', label='Validation loss')\n",
        "plt.title('Training and validation loss')\n",
        "plt.legend()\n",
        "\n",
        "plt.show()"
      ],
      "execution_count": 0,
      "outputs": [
        {
          "output_type": "display_data",
          "data": {
            "image/png": "[encoded data removed]",
            "text/plain": [
              "<Figure size 432x288 with 1 Axes>"
            ]
          },
          "metadata": {
            "tags": []
          }
        }
      ]
    },
    {
      "cell_type": "markdown",
      "metadata": {
        "id": "8qeJKDY9n4jb",
        "colab_type": "text"
      },
      "source": [
        "- Nesse treino, utilizamos a sequência de dados como um todo, sem considerar como cada medida T em um tempo t influência o a temperatura T+1.\n",
        "\n",
        "- Da mesma maneira que com a sequência de palavras no review, a ordem e a causalidade importante!\n",
        "\n",
        "> Uilizaremos uma **GRU** (***gated recurrent unit***, \"unidade recorrente fechada\"), que são similares a LSTM, mas são mais baratas computacionalmente."
      ]
    },
    {
      "cell_type": "markdown",
      "metadata": {
        "id": "M2KudqilVH_q",
        "colab_type": "text"
      },
      "source": [
        "### Baseline recorrente - uma primeira tentativa"
      ]
    },
    {
      "cell_type": "code",
      "metadata": {
        "id": "VrAilO_90flj",
        "colab_type": "code",
        "outputId": "a56e8956-67d6-47dc-ab6b-e145f8a1c8bb",
        "colab": {
          "base_uri": "https://localhost:8080/",
          "height": 768
        }
      },
      "source": [
        "from keras.models import Sequential\n",
        "from keras import layers\n",
        "from keras.optimizers import RMSprop\n",
        "\n",
        "model = Sequential()\n",
        "model.add(layers.GRU(32, input_shape=(None, float_data.shape[-1])))\n",
        "model.add(layers.Dense(1))\n",
        "\n",
        "model.compile(optimizer=RMSprop(), loss='mae')\n",
        "history = model.fit_generator(train_gen,\n",
        "                              steps_per_epoch=500,\n",
        "                              epochs=20,\n",
        "                              validation_data=val_gen,\n",
        "                              validation_steps=val_steps)"
      ],
      "execution_count": 0,
      "outputs": [
        {
          "output_type": "stream",
          "text": [
            "WARNING:tensorflow:From /usr/local/lib/python3.6/dist-packages/tensorflow_core/python/ops/math_grad.py:1424: where (from tensorflow.python.ops.array_ops) is deprecated and will be removed in a future version.\n",
            "Instructions for updating:\n",
            "Use tf.where in 2.0, which has the same broadcast rule as np.where\n",
            "Epoch 1/20\n",
            "500/500 [==============================] - 114s 229ms/step - loss: 0.3119 - val_loss: 0.2720\n",
            "Epoch 2/20\n",
            "500/500 [==============================] - 113s 226ms/step - loss: 0.2854 - val_loss: 0.2676\n",
            "Epoch 3/20\n",
            "500/500 [==============================] - 113s 227ms/step - loss: 0.2783 - val_loss: 0.2615\n",
            "Epoch 4/20\n",
            "500/500 [==============================] - 113s 227ms/step - loss: 0.2733 - val_loss: 0.2721\n",
            "Epoch 5/20\n",
            "500/500 [==============================] - 112s 224ms/step - loss: 0.2662 - val_loss: 0.2637\n",
            "Epoch 6/20\n",
            "500/500 [==============================] - 112s 224ms/step - loss: 0.2587 - val_loss: 0.2695\n",
            "Epoch 7/20\n",
            "500/500 [==============================] - 112s 225ms/step - loss: 0.2538 - val_loss: 0.2691\n",
            "Epoch 8/20\n",
            "500/500 [==============================] - 113s 226ms/step - loss: 0.2502 - val_loss: 0.2699\n",
            "Epoch 9/20\n",
            "500/500 [==============================] - 113s 226ms/step - loss: 0.2440 - val_loss: 0.2730\n",
            "Epoch 10/20\n",
            "500/500 [==============================] - 113s 226ms/step - loss: 0.2425 - val_loss: 0.2740\n",
            "Epoch 11/20\n",
            "500/500 [==============================] - 113s 226ms/step - loss: 0.2365 - val_loss: 0.2757\n",
            "Epoch 12/20\n",
            "500/500 [==============================] - 113s 226ms/step - loss: 0.2312 - val_loss: 0.2734\n",
            "Epoch 13/20\n",
            "500/500 [==============================] - 113s 225ms/step - loss: 0.2287 - val_loss: 0.2787\n",
            "Epoch 14/20\n",
            "500/500 [==============================] - 113s 227ms/step - loss: 0.2261 - val_loss: 0.2785\n",
            "Epoch 15/20\n",
            "500/500 [==============================] - 113s 226ms/step - loss: 0.2216 - val_loss: 0.2801\n",
            "Epoch 16/20\n",
            "500/500 [==============================] - 114s 229ms/step - loss: 0.2185 - val_loss: 0.2854\n",
            "Epoch 17/20\n",
            "500/500 [==============================] - 113s 227ms/step - loss: 0.2155 - val_loss: 0.2881\n",
            "Epoch 18/20\n",
            "500/500 [==============================] - 112s 225ms/step - loss: 0.2113 - val_loss: 0.2863\n",
            "Epoch 19/20\n",
            "500/500 [==============================] - 112s 224ms/step - loss: 0.2097 - val_loss: 0.2895\n",
            "Epoch 20/20\n",
            "500/500 [==============================] - 112s 224ms/step - loss: 0.2059 - val_loss: 0.2929\n"
          ],
          "name": "stdout"
        }
      ]
    },
    {
      "cell_type": "code",
      "metadata": {
        "id": "i3HZL9-eoy4G",
        "colab_type": "code",
        "outputId": "0e06a2c0-0090-491e-c41e-6c200922fc3a",
        "colab": {
          "base_uri": "https://localhost:8080/",
          "height": 281
        }
      },
      "source": [
        "loss = history.history['loss']\n",
        "val_loss = history.history['val_loss']\n",
        "\n",
        "epochs = range(len(loss))\n",
        "\n",
        "plt.figure()\n",
        "\n",
        "plt.plot(epochs, loss, 'bo', label='Training loss')\n",
        "plt.plot(epochs, val_loss, 'b', label='Validation loss')\n",
        "plt.title('Training and validation loss')\n",
        "plt.legend()\n",
        "\n",
        "plt.show()\n"
      ],
      "execution_count": 0,
      "outputs": [
        {
          "output_type": "display_data",
          "data": {
            "image/png": "[encoded data removed]",
            "text/plain": [
              "<Figure size 432x288 with 1 Axes>"
            ]
          },
          "metadata": {
            "tags": []
          }
        }
      ]
    },
    {
      "cell_type": "markdown",
      "metadata": {
        "id": "rVtbSZP1zYuF",
        "colab_type": "text"
      },
      "source": [
        "## Dropout para evitar overfitting\n",
        "\n",
        "Para evitar o **overfitting** usar o dropout é uma boa opção, uma vez que ele 'quebra' algumas correlações entre os dados de treinamento, evitando o superajuste.\n",
        "\n",
        "> Fazer isso em redes recorrentes não é trivial, pois necessitamos das informações prévias para o treinamento recorrente.\n",
        "\n",
        "**Yarin Gal**: a máscara de dropout deve ser *a mesma em todos os timesteps*. Uma máscara de dropout constante deve ser aplicada às ativações internas da camada recorrente, numa espécie de \"***dropout recorrente***\".\n",
        "\n",
        "No Keras, cada camada recorrente pode ter dois argumentos de dropout:\n",
        "- dropout, um valor decimal que diz a taxa de dropout para as unidades de input da camada\n",
        "- recurrent_dropout, que especifica a taxa de dropout das unidades recorrentes.\n",
        "\n"
      ]
    },
    {
      "cell_type": "code",
      "metadata": {
        "id": "auTXtwtLpl6F",
        "colab_type": "code",
        "outputId": "0032dd0f-180b-4f7c-e566-4ec856cd3444",
        "colab": {
          "base_uri": "https://localhost:8080/",
          "height": 1000
        }
      },
      "source": [
        "from keras.models import Sequential\n",
        "from keras import layers\n",
        "from keras.optimizers import RMSprop\n",
        "\n",
        "model = Sequential()\n",
        "model.add(layers.GRU(32,\n",
        "                     dropout=0.2,\n",
        "                     recurrent_dropout=0.2,\n",
        "                     input_shape=(None, float_data.shape[-1])))\n",
        "model.add(layers.Dense(1))\n",
        "\n",
        "model.compile(optimizer=RMSprop(), loss='mae')\n",
        "history = model.fit_generator(train_gen,\n",
        "                              steps_per_epoch=500,\n",
        "                              epochs=40,\n",
        "                              validation_data=val_gen,\n",
        "                              validation_steps=val_steps)"
      ],
      "execution_count": 0,
      "outputs": [
        {
          "output_type": "stream",
          "text": [
            "WARNING:tensorflow:From /usr/local/lib/python3.6/dist-packages/keras/backend/tensorflow_backend.py:148: The name tf.placeholder_with_default is deprecated. Please use tf.compat.v1.placeholder_with_default instead.\n",
            "\n",
            "WARNING:tensorflow:From /usr/local/lib/python3.6/dist-packages/keras/backend/tensorflow_backend.py:3733: calling dropout (from tensorflow.python.ops.nn_ops) with keep_prob is deprecated and will be removed in a future version.\n",
            "Instructions for updating:\n",
            "Please use `rate` instead of `keep_prob`. Rate should be set to `rate = 1 - keep_prob`.\n",
            "Epoch 1/40\n",
            "500/500 [==============================] - 133s 266ms/step - loss: 0.3326 - val_loss: 0.2759\n",
            "Epoch 2/40\n",
            "500/500 [==============================] - 132s 265ms/step - loss: 0.3143 - val_loss: 0.2760\n",
            "Epoch 3/40\n",
            "500/500 [==============================] - 131s 262ms/step - loss: 0.3074 - val_loss: 0.2707\n",
            "Epoch 4/40\n",
            "500/500 [==============================] - 131s 262ms/step - loss: 0.3029 - val_loss: 0.2727\n",
            "Epoch 5/40\n",
            "500/500 [==============================] - 132s 265ms/step - loss: 0.3019 - val_loss: 0.2699\n",
            "Epoch 6/40\n",
            "500/500 [==============================] - 133s 266ms/step - loss: 0.2993 - val_loss: 0.2680\n",
            "Epoch 7/40\n",
            "500/500 [==============================] - 133s 266ms/step - loss: 0.2956 - val_loss: 0.2676\n",
            "Epoch 8/40\n",
            "500/500 [==============================] - 133s 267ms/step - loss: 0.2924 - val_loss: 0.2670\n",
            "Epoch 9/40\n",
            "500/500 [==============================] - 133s 266ms/step - loss: 0.2913 - val_loss: 0.2660\n",
            "Epoch 10/40\n",
            "500/500 [==============================] - 133s 266ms/step - loss: 0.2906 - val_loss: 0.2653\n",
            "Epoch 11/40\n",
            "500/500 [==============================] - 133s 267ms/step - loss: 0.2895 - val_loss: 0.2651\n",
            "Epoch 12/40\n",
            "500/500 [==============================] - 133s 266ms/step - loss: 0.2894 - val_loss: 0.2656\n",
            "Epoch 13/40\n",
            "500/500 [==============================] - 133s 266ms/step - loss: 0.2872 - val_loss: 0.2673\n",
            "Epoch 14/40\n",
            "500/500 [==============================] - 133s 267ms/step - loss: 0.2856 - val_loss: 0.2655\n",
            "Epoch 15/40\n",
            "500/500 [==============================] - 132s 265ms/step - loss: 0.2831 - val_loss: 0.2630\n",
            "Epoch 16/40\n",
            "500/500 [==============================] - 133s 267ms/step - loss: 0.2822 - val_loss: 0.2654\n",
            "Epoch 17/40\n",
            "500/500 [==============================] - 133s 265ms/step - loss: 0.2844 - val_loss: 0.2636\n",
            "Epoch 18/40\n",
            "500/500 [==============================] - 133s 266ms/step - loss: 0.2825 - val_loss: 0.2625\n",
            "Epoch 19/40\n",
            "500/500 [==============================] - 133s 266ms/step - loss: 0.2793 - val_loss: 0.2643\n",
            "Epoch 20/40\n",
            "500/500 [==============================] - 133s 266ms/step - loss: 0.2800 - val_loss: 0.2625\n",
            "Epoch 21/40\n",
            "500/500 [==============================] - 133s 267ms/step - loss: 0.2788 - val_loss: 0.2641\n",
            "Epoch 22/40\n",
            "500/500 [==============================] - 134s 268ms/step - loss: 0.2779 - val_loss: 0.2641\n",
            "Epoch 23/40\n",
            "500/500 [==============================] - 133s 267ms/step - loss: 0.2755 - val_loss: 0.2645\n",
            "Epoch 24/40\n",
            "500/500 [==============================] - 132s 265ms/step - loss: 0.2754 - val_loss: 0.2643\n",
            "Epoch 25/40\n",
            "500/500 [==============================] - 130s 261ms/step - loss: 0.2756 - val_loss: 0.2620\n",
            "Epoch 26/40\n",
            "500/500 [==============================] - 130s 261ms/step - loss: 0.2747 - val_loss: 0.2671\n",
            "Epoch 27/40\n",
            "500/500 [==============================] - 130s 259ms/step - loss: 0.2738 - val_loss: 0.2609\n",
            "Epoch 28/40\n",
            "500/500 [==============================] - 130s 259ms/step - loss: 0.2737 - val_loss: 0.2655\n",
            "Epoch 29/40\n",
            "500/500 [==============================] - 132s 264ms/step - loss: 0.2725 - val_loss: 0.2654\n",
            "Epoch 30/40\n",
            "500/500 [==============================] - 133s 266ms/step - loss: 0.2734 - val_loss: 0.2623\n",
            "Epoch 31/40\n",
            "500/500 [==============================] - 133s 267ms/step - loss: 0.2726 - val_loss: 0.2656\n",
            "Epoch 32/40\n",
            "500/500 [==============================] - 132s 264ms/step - loss: 0.2705 - val_loss: 0.2650\n",
            "Epoch 33/40\n",
            "500/500 [==============================] - 132s 265ms/step - loss: 0.2725 - val_loss: 0.2651\n",
            "Epoch 34/40\n",
            "500/500 [==============================] - 133s 266ms/step - loss: 0.2701 - val_loss: 0.2627\n",
            "Epoch 35/40\n",
            "500/500 [==============================] - 134s 267ms/step - loss: 0.2709 - val_loss: 0.2731\n",
            "Epoch 36/40\n",
            "500/500 [==============================] - 133s 267ms/step - loss: 0.2699 - val_loss: 0.2614\n",
            "Epoch 37/40\n",
            "500/500 [==============================] - 134s 267ms/step - loss: 0.2698 - val_loss: 0.2640\n",
            "Epoch 38/40\n",
            "500/500 [==============================] - 133s 266ms/step - loss: 0.2693 - val_loss: 0.2627\n",
            "Epoch 39/40\n",
            "500/500 [==============================] - 132s 263ms/step - loss: 0.2685 - val_loss: 0.2627\n",
            "Epoch 40/40\n",
            "500/500 [==============================] - 133s 265ms/step - loss: 0.2661 - val_loss: 0.2632\n"
          ],
          "name": "stdout"
        }
      ]
    },
    {
      "cell_type": "code",
      "metadata": {
        "id": "xrpHSvlk271n",
        "colab_type": "code",
        "outputId": "1e5da96c-0332-475d-e214-a3427058bc3b",
        "colab": {
          "base_uri": "https://localhost:8080/",
          "height": 281
        }
      },
      "source": [
        "loss = history.history['loss']\n",
        "val_loss = history.history['val_loss']\n",
        "\n",
        "epochs = range(len(loss))\n",
        "\n",
        "plt.figure()\n",
        "\n",
        "plt.plot(epochs, loss, 'bo', label='Training loss')\n",
        "plt.plot(epochs, val_loss, 'b', label='Validation loss')\n",
        "plt.title('Training and validation loss')\n",
        "plt.legend()\n",
        "\n",
        "plt.show()"
      ],
      "execution_count": 0,
      "outputs": [
        {
          "output_type": "display_data",
          "data": {
            "image/png": "[encoded data removed]",
            "text/plain": [
              "<Figure size 432x288 with 1 Axes>"
            ]
          },
          "metadata": {
            "tags": []
          }
        }
      ]
    },
    {
      "cell_type": "markdown",
      "metadata": {
        "id": "hkGB576V3Ff3",
        "colab_type": "text"
      },
      "source": [
        "## Empilhando Camadas Recorrentes\n",
        "\n",
        "bla bla"
      ]
    },
    {
      "cell_type": "code",
      "metadata": {
        "id": "aNy2YlZw3C_g",
        "colab_type": "code",
        "outputId": "7ff37a16-d121-4909-c055-57029a49da7f",
        "colab": {
          "base_uri": "https://localhost:8080/",
          "height": 391
        }
      },
      "source": [
        "from keras.models import Sequential\n",
        "from keras import layers\n",
        "from keras.optimizers import RMSprop\n",
        "\n",
        "model = Sequential()\n",
        "model.add(layers.GRU(32,\n",
        "                     dropout=0.1,\n",
        "                     recurrent_dropout=0.5,\n",
        "                     return_sequences=True,\n",
        "                     input_shape=(None, float_data.shape[-1])))\n",
        "model.add(layers.GRU(64, activation='relu',\n",
        "                     dropout=0.1, \n",
        "                     recurrent_dropout=0.5))\n",
        "model.add(layers.Dense(1))\n",
        "\n",
        "model.compile(optimizer=RMSprop(), loss='mae')\n",
        "history = model.fit_generator(train_gen,\n",
        "                              steps_per_epoch=500,\n",
        "                              epochs=40,\n",
        "                              validation_data=val_gen,\n",
        "                              validation_steps=val_steps)"
      ],
      "execution_count": 0,
      "outputs": [
        {
          "output_type": "stream",
          "text": [
            "Epoch 1/40\n",
            "500/500 [==============================] - 341s 681ms/step - loss: 0.3336 - val_loss: 0.2745\n",
            "Epoch 2/40\n",
            "500/500 [==============================] - 338s 675ms/step - loss: 0.3144 - val_loss: 0.2722\n",
            "Epoch 3/40\n",
            "500/500 [==============================] - 341s 683ms/step - loss: 0.3068 - val_loss: 0.2724\n",
            "Epoch 4/40\n",
            "500/500 [==============================] - 339s 678ms/step - loss: 0.3012 - val_loss: 0.2697\n",
            "Epoch 5/40\n",
            "500/500 [==============================] - 339s 678ms/step - loss: 0.2969 - val_loss: 0.2646\n",
            "Epoch 6/40\n",
            "500/500 [==============================] - 339s 678ms/step - loss: 0.2952 - val_loss: 0.2710\n",
            "Epoch 7/40\n",
            "500/500 [==============================] - 338s 676ms/step - loss: 0.2924 - val_loss: 0.2675\n",
            "Epoch 8/40\n",
            "500/500 [==============================] - 339s 677ms/step - loss: 0.2894 - val_loss: 0.2626\n",
            "Epoch 9/40\n",
            "500/500 [==============================] - 338s 675ms/step - loss: 0.2856 - val_loss: 0.2641\n",
            "Epoch 10/40\n",
            "500/500 [==============================] - 338s 677ms/step - loss: 0.2845 - val_loss: 0.2637\n",
            "Epoch 11/40\n",
            "161/500 [========>.....................] - ETA: 2:54 - loss: 0.2808"
          ],
          "name": "stdout"
        }
      ]
    },
    {
      "cell_type": "code",
      "metadata": {
        "id": "8kOGlJKj3NVT",
        "colab_type": "code",
        "colab": {}
      },
      "source": [
        "loss = history.history['loss']\n",
        "val_loss = history.history['val_loss']\n",
        "\n",
        "epochs = range(len(loss))\n",
        "\n",
        "plt.figure()\n",
        "\n",
        "plt.plot(epochs, loss, 'bo', label='Training loss')\n",
        "plt.plot(epochs, val_loss, 'b', label='Validation loss')\n",
        "plt.title('Training and validation loss')\n",
        "plt.legend()\n",
        "\n",
        "plt.show()"
      ],
      "execution_count": 0,
      "outputs": []
    },
    {
      "cell_type": "markdown",
      "metadata": {
        "id": "z4UC6SgV3SxH",
        "colab_type": "text"
      },
      "source": [
        "## Camadas Bidirecionais\n",
        "\n",
        "bla bla bla"
      ]
    },
    {
      "cell_type": "code",
      "metadata": {
        "id": "RQmOaSng3Qdx",
        "colab_type": "code",
        "colab": {}
      },
      "source": [
        "def reverse_order_generator(data, lookback, delay, min_index, max_index,\n",
        "                            shuffle=False, batch_size=128, step=6):\n",
        "    if max_index is None:\n",
        "        max_index = len(data) - delay - 1\n",
        "    i = min_index + lookback\n",
        "    while 1:\n",
        "        if shuffle:\n",
        "            rows = np.random.randint(\n",
        "                min_index + lookback, max_index, size=batch_size)\n",
        "        else:\n",
        "            if i + batch_size >= max_index:\n",
        "                i = min_index + lookback\n",
        "            rows = np.arange(i, min(i + batch_size, max_index))\n",
        "            i += len(rows)\n",
        "\n",
        "        samples = np.zeros((len(rows),\n",
        "                           lookback // step,\n",
        "                           data.shape[-1]))\n",
        "        targets = np.zeros((len(rows),))\n",
        "        for j, row in enumerate(rows):\n",
        "            indices = range(rows[j] - lookback, rows[j], step)\n",
        "            samples[j] = data[indices]\n",
        "            targets[j] = data[rows[j] + delay][1]\n",
        "        yield samples[:, ::-1, :], targets\n",
        "        \n",
        "train_gen_reverse = reverse_order_generator(\n",
        "    float_data,\n",
        "    lookback=lookback,\n",
        "    delay=delay,\n",
        "    min_index=0,\n",
        "    max_index=200000,\n",
        "    shuffle=True,\n",
        "    step=step, \n",
        "    batch_size=batch_size)\n",
        "val_gen_reverse = reverse_order_generator(\n",
        "    float_data,\n",
        "    lookback=lookback,\n",
        "    delay=delay,\n",
        "    min_index=200001,\n",
        "    max_index=300000,\n",
        "    step=step,\n",
        "    batch_size=batch_size)"
      ],
      "execution_count": 0,
      "outputs": []
    },
    {
      "cell_type": "code",
      "metadata": {
        "id": "l_1XZIwF3ZPt",
        "colab_type": "code",
        "colab": {}
      },
      "source": [
        "model = Sequential()\n",
        "model.add(layers.GRU(32, input_shape=(None, float_data.shape[-1])))\n",
        "model.add(layers.Dense(1))\n",
        "\n",
        "model.compile(optimizer=RMSprop(), loss='mae')\n",
        "history = model.fit_generator(train_gen_reverse,\n",
        "                              steps_per_epoch=500,\n",
        "                              epochs=20,\n",
        "                              validation_data=val_gen_reverse,\n",
        "                              validation_steps=val_steps)"
      ],
      "execution_count": 0,
      "outputs": []
    },
    {
      "cell_type": "code",
      "metadata": {
        "id": "ndkMj6Mw3cCu",
        "colab_type": "code",
        "colab": {}
      },
      "source": [
        "loss = history.history['loss']\n",
        "val_loss = history.history['val_loss']\n",
        "\n",
        "epochs = range(len(loss))\n",
        "\n",
        "plt.figure()\n",
        "\n",
        "plt.plot(epochs, loss, 'bo', label='Training loss')\n",
        "plt.plot(epochs, val_loss, 'b', label='Validation loss')\n",
        "plt.title('Training and validation loss')\n",
        "plt.legend()\n",
        "\n",
        "plt.show()"
      ],
      "execution_count": 0,
      "outputs": []
    },
    {
      "cell_type": "markdown",
      "metadata": {
        "id": "IdV5xx-j3hXH",
        "colab_type": "text"
      },
      "source": [
        "#bla\n",
        " bla bla"
      ]
    },
    {
      "cell_type": "code",
      "metadata": {
        "id": "jIqooduE3enC",
        "colab_type": "code",
        "colab": {}
      },
      "source": [
        "from keras.datasets import imdb\n",
        "from keras.preprocessing import sequence\n",
        "from keras import layers\n",
        "from keras.models import Sequential\n",
        "\n",
        "# Number of words to consider as features\n",
        "max_features = 10000\n",
        "# Cut texts after this number of words (among top max_features most common words)\n",
        "maxlen = 500\n",
        "\n",
        "# Load data\n",
        "(x_train, y_train), (x_test, y_test) = imdb.load_data(num_words=max_features)\n",
        "\n",
        "# Reverse sequences\n",
        "x_train = [x[::-1] for x in x_train]\n",
        "x_test = [x[::-1] for x in x_test]\n",
        "\n",
        "# Pad sequences\n",
        "x_train = sequence.pad_sequences(x_train, maxlen=maxlen)\n",
        "x_test = sequence.pad_sequences(x_test, maxlen=maxlen)\n",
        "\n",
        "model = Sequential()\n",
        "model.add(layers.Embedding(max_features, 128))\n",
        "model.add(layers.LSTM(32))\n",
        "model.add(layers.Dense(1, activation='sigmoid'))\n",
        "\n",
        "model.compile(optimizer='rmsprop',\n",
        "              loss='binary_crossentropy',\n",
        "              metrics=['acc'])\n",
        "history = model.fit(x_train, y_train,\n",
        "                    epochs=10,\n",
        "                    batch_size=128,\n",
        "                    validation_split=0.2)"
      ],
      "execution_count": 0,
      "outputs": []
    },
    {
      "cell_type": "markdown",
      "metadata": {
        "id": "t-FeYPp_3q_x",
        "colab_type": "text"
      },
      "source": [
        "# blas\n",
        "msdklfsdkjmf\n",
        "kdsjfndz\n",
        "kndfmzdx"
      ]
    },
    {
      "cell_type": "code",
      "metadata": {
        "id": "GZvlJP_93o3Q",
        "colab_type": "code",
        "colab": {}
      },
      "source": [
        "from keras import backend as K\n",
        "K.clear_session()"
      ],
      "execution_count": 0,
      "outputs": []
    },
    {
      "cell_type": "code",
      "metadata": {
        "id": "Ml5obRdH3xb8",
        "colab_type": "code",
        "colab": {}
      },
      "source": [
        "model = Sequential()\n",
        "model.add(layers.Embedding(max_features, 32))\n",
        "model.add(layers.Bidirectional(layers.LSTM(32)))\n",
        "model.add(layers.Dense(1, activation='sigmoid'))\n",
        "\n",
        "model.compile(optimizer='rmsprop', loss='binary_crossentropy', metrics=['acc'])\n",
        "history = model.fit(x_train, y_train, epochs=10, batch_size=128, validation_split=0.2)"
      ],
      "execution_count": 0,
      "outputs": []
    },
    {
      "cell_type": "markdown",
      "metadata": {
        "id": "sleOgPYL32Le",
        "colab_type": "text"
      },
      "source": [
        "# ndsklfdsz\n",
        "dskjfjsd,z\n",
        "kjdjsfnds"
      ]
    },
    {
      "cell_type": "code",
      "metadata": {
        "id": "aOpP-hOj3zyQ",
        "colab_type": "code",
        "colab": {}
      },
      "source": [
        "\n",
        "from keras.models import Sequential\n",
        "from keras import layers\n",
        "from keras.optimizers import RMSprop\n",
        "\n",
        "model = Sequential()\n",
        "model.add(layers.Bidirectional(\n",
        "    layers.GRU(32), input_shape=(None, float_data.shape[-1])))\n",
        "model.add(layers.Dense(1))\n",
        "\n",
        "model.compile(optimizer=RMSprop(), loss='mae')\n",
        "history = model.fit_generator(train_gen,\n",
        "                              steps_per_epoch=500,\n",
        "                              epochs=40,\n",
        "                              validation_data=val_gen,\n",
        "                              validation_steps=val_steps)"
      ],
      "execution_count": 0,
      "outputs": []
    },
    {
      "cell_type": "markdown",
      "metadata": {
        "id": "ZL1LZc3339jc",
        "colab_type": "text"
      },
      "source": [
        "# mais blas\n",
        "\n",
        "escritos\n",
        "\n",
        "e descritos"
      ]
    },
    {
      "cell_type": "code",
      "metadata": {
        "id": "DFsdfJtz38m-",
        "colab_type": "code",
        "colab": {}
      },
      "source": [
        ""
      ],
      "execution_count": 0,
      "outputs": []
    }
  ]
}